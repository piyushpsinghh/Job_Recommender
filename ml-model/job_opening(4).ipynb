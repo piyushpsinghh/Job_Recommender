{
 "cells": [
  {
   "cell_type": "code",
   "execution_count": 8,
   "id": "7af8e758",
   "metadata": {},
   "outputs": [],
   "source": [
    "import pandas as pd"
   ]
  },
  {
   "cell_type": "code",
   "execution_count": 9,
   "id": "800b280c",
   "metadata": {},
   "outputs": [],
   "source": [
    "df= pd.read_csv(\"C:\\\\Users\\\\piyus.LAPTOP-7O04196B\\\\Downloads\\\\instahyre\\\\dataset\\\\final_table.csv\")"
   ]
  },
  {
   "cell_type": "code",
   "execution_count": 10,
   "id": "f143288f",
   "metadata": {},
   "outputs": [
    {
     "data": {
      "text/html": [
       "<div>\n",
       "<style scoped>\n",
       "    .dataframe tbody tr th:only-of-type {\n",
       "        vertical-align: middle;\n",
       "    }\n",
       "\n",
       "    .dataframe tbody tr th {\n",
       "        vertical-align: top;\n",
       "    }\n",
       "\n",
       "    .dataframe thead th {\n",
       "        text-align: right;\n",
       "    }\n",
       "</style>\n",
       "<table border=\"1\" class=\"dataframe\">\n",
       "  <thead>\n",
       "    <tr style=\"text-align: right;\">\n",
       "      <th></th>\n",
       "      <th>Unnamed: 0</th>\n",
       "      <th>designation</th>\n",
       "      <th>company_name</th>\n",
       "      <th>Number_of_Employees</th>\n",
       "      <th>job_description</th>\n",
       "      <th>skills</th>\n",
       "      <th>Years_of_Experience</th>\n",
       "      <th>Category</th>\n",
       "      <th>company_class</th>\n",
       "      <th>Department</th>\n",
       "    </tr>\n",
       "  </thead>\n",
       "  <tbody>\n",
       "    <tr>\n",
       "      <th>0</th>\n",
       "      <td>0</td>\n",
       "      <td>Business Development Associate (Drive)</td>\n",
       "      <td>MakeMyTrip</td>\n",
       "      <td>1000</td>\n",
       "      <td>Function: Sales and Business → Sales / Busines...</td>\n",
       "      <td>Business Development\\nRevenue Management\\nSales</td>\n",
       "      <td>4</td>\n",
       "      <td>Junior</td>\n",
       "      <td>Class1</td>\n",
       "      <td>Sales and Business</td>\n",
       "    </tr>\n",
       "    <tr>\n",
       "      <th>1</th>\n",
       "      <td>1</td>\n",
       "      <td>Business Manager (Drive)</td>\n",
       "      <td>MakeMyTrip</td>\n",
       "      <td>1000</td>\n",
       "      <td>Function: Sales and Business → Sales / Busines...</td>\n",
       "      <td>Business Development\\nChannel Sales\\nKey Accou...</td>\n",
       "      <td>6</td>\n",
       "      <td>Senior</td>\n",
       "      <td>Class1</td>\n",
       "      <td>Sales and Business</td>\n",
       "    </tr>\n",
       "    <tr>\n",
       "      <th>2</th>\n",
       "      <td>2</td>\n",
       "      <td>Business Manager (Drive)</td>\n",
       "      <td>MakeMyTrip</td>\n",
       "      <td>1000</td>\n",
       "      <td>Function: Sales and Business → Sales / Busines...</td>\n",
       "      <td>Business Development\\nChannel Sales\\nKey Accou...</td>\n",
       "      <td>6</td>\n",
       "      <td>Senior</td>\n",
       "      <td>Class1</td>\n",
       "      <td>Sales and Business</td>\n",
       "    </tr>\n",
       "    <tr>\n",
       "      <th>3</th>\n",
       "      <td>3</td>\n",
       "      <td>Key Account Manager (Drive)</td>\n",
       "      <td>MakeMyTrip</td>\n",
       "      <td>1000</td>\n",
       "      <td>Function: Sales and Business → Sales / Busines...</td>\n",
       "      <td>Corporate Sales\\nKey Account Management\\nProfi...</td>\n",
       "      <td>7</td>\n",
       "      <td>Senior</td>\n",
       "      <td>Class1</td>\n",
       "      <td>Sales and Business</td>\n",
       "    </tr>\n",
       "    <tr>\n",
       "      <th>4</th>\n",
       "      <td>4</td>\n",
       "      <td>Senior Business Development Manager (Drive)</td>\n",
       "      <td>MakeMyTrip</td>\n",
       "      <td>1000</td>\n",
       "      <td>Function: Sales and Business → Sales / Busines...</td>\n",
       "      <td>Business Development\\nCorporate Sales\\nKey Acc...</td>\n",
       "      <td>5</td>\n",
       "      <td>Senior</td>\n",
       "      <td>Class1</td>\n",
       "      <td>Sales and Business</td>\n",
       "    </tr>\n",
       "  </tbody>\n",
       "</table>\n",
       "</div>"
      ],
      "text/plain": [
       "   Unnamed: 0                                  designation company_name  \\\n",
       "0           0       Business Development Associate (Drive)   MakeMyTrip   \n",
       "1           1                     Business Manager (Drive)   MakeMyTrip   \n",
       "2           2                     Business Manager (Drive)   MakeMyTrip   \n",
       "3           3                  Key Account Manager (Drive)   MakeMyTrip   \n",
       "4           4  Senior Business Development Manager (Drive)   MakeMyTrip   \n",
       "\n",
       "   Number_of_Employees                                    job_description  \\\n",
       "0                 1000  Function: Sales and Business → Sales / Busines...   \n",
       "1                 1000  Function: Sales and Business → Sales / Busines...   \n",
       "2                 1000  Function: Sales and Business → Sales / Busines...   \n",
       "3                 1000  Function: Sales and Business → Sales / Busines...   \n",
       "4                 1000  Function: Sales and Business → Sales / Busines...   \n",
       "\n",
       "                                              skills  Years_of_Experience  \\\n",
       "0    Business Development\\nRevenue Management\\nSales                    4   \n",
       "1  Business Development\\nChannel Sales\\nKey Accou...                    6   \n",
       "2  Business Development\\nChannel Sales\\nKey Accou...                    6   \n",
       "3  Corporate Sales\\nKey Account Management\\nProfi...                    7   \n",
       "4  Business Development\\nCorporate Sales\\nKey Acc...                    5   \n",
       "\n",
       "  Category company_class          Department  \n",
       "0   Junior        Class1  Sales and Business  \n",
       "1   Senior        Class1  Sales and Business  \n",
       "2   Senior        Class1  Sales and Business  \n",
       "3   Senior        Class1  Sales and Business  \n",
       "4   Senior        Class1  Sales and Business  "
      ]
     },
     "execution_count": 10,
     "metadata": {},
     "output_type": "execute_result"
    }
   ],
   "source": [
    "df.head()"
   ]
  },
  {
   "cell_type": "code",
   "execution_count": 11,
   "id": "f45493ba",
   "metadata": {},
   "outputs": [],
   "source": [
    "df[\"skills\"] = df[\"skills\"].str.lower()\n",
    "v=(\"*\").join(df[\"skills\"])\n",
    "v=(\"*\").join(df[\"skills\"])\n",
    "v=v.replace(\"*\",\",\")\n",
    "skill_list = v.split(\",\")"
   ]
  },
  {
   "cell_type": "code",
   "execution_count": 12,
   "id": "6fbff30e",
   "metadata": {},
   "outputs": [],
   "source": [
    "skill_dict=dict()\n",
    "for i in set(skill_list):\n",
    "    skill_dict[i] = skill_list.count(i)"
   ]
  },
  {
   "cell_type": "code",
   "execution_count": 13,
   "id": "aa8fb910",
   "metadata": {},
   "outputs": [],
   "source": [
    "import nltk\n",
    "from nltk.corpus import stopwords\n",
    "from nltk.stem import PorterStemmer\n",
    "pc=PorterStemmer()"
   ]
  },
  {
   "cell_type": "code",
   "execution_count": 14,
   "id": "939cd5da",
   "metadata": {},
   "outputs": [],
   "source": [
    "def transfrom_text(x):\n",
    "    y = nltk.word_tokenize(x.lower())\n",
    "    z = []\n",
    "    for i in y:\n",
    "        if i.isalnum():\n",
    "            z.append(i)\n",
    "    y = z[:]\n",
    "    z.clear()\n",
    "    for i in y:\n",
    "        if i not in stopwords.words('english'):\n",
    "            z.append(i)\n",
    "    y=z[:]\n",
    "    z.clear()\n",
    "    for i in y:\n",
    "        z.append(pc.stem(i))\n",
    "    return ' '.join(z)\n"
   ]
  },
  {
   "cell_type": "code",
   "execution_count": 15,
   "id": "1d663b0b",
   "metadata": {},
   "outputs": [],
   "source": [
    "df['transfrom_skill']=df.skills.map(transfrom_text)"
   ]
  },
  {
   "cell_type": "code",
   "execution_count": 16,
   "id": "8b6409f5",
   "metadata": {},
   "outputs": [],
   "source": [
    "def job_no(x):\n",
    "    y=x.lower()\n",
    "    ls=y.split(',')\n",
    "    job_list=[]\n",
    "    for i in ls:\n",
    "        job=df[df.transfrom_skill.str.contains(i)].shape[0]\n",
    "        job_list.append(job)\n",
    "\n",
    "    return min(job_list)"
   ]
  },
  {
   "cell_type": "code",
   "execution_count": null,
   "id": "1a5897f9",
   "metadata": {},
   "outputs": [],
   "source": []
  }
 ],
 "metadata": {
  "kernelspec": {
   "display_name": "Python 3 (ipykernel)",
   "language": "python",
   "name": "python3"
  },
  "language_info": {
   "codemirror_mode": {
    "name": "ipython",
    "version": 3
   },
   "file_extension": ".py",
   "mimetype": "text/x-python",
   "name": "python",
   "nbconvert_exporter": "python",
   "pygments_lexer": "ipython3",
   "version": "3.10.9"
  }
 },
 "nbformat": 4,
 "nbformat_minor": 5
}

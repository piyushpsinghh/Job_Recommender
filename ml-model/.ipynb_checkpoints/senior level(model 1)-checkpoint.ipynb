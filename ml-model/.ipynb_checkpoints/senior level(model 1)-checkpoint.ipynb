{
 "cells": [
  {
   "cell_type": "code",
   "execution_count": 38,
   "id": "4e094e2d",
   "metadata": {},
   "outputs": [],
   "source": [
    "import pandas as pd\n",
    "import numpy as np\n",
    "import seaborn as sns\n",
    "import matplotlib.pyplot as plt"
   ]
  },
  {
   "cell_type": "code",
   "execution_count": 39,
   "id": "7e7e630b",
   "metadata": {},
   "outputs": [
    {
     "data": {
      "text/html": [
       "<div>\n",
       "<style scoped>\n",
       "    .dataframe tbody tr th:only-of-type {\n",
       "        vertical-align: middle;\n",
       "    }\n",
       "\n",
       "    .dataframe tbody tr th {\n",
       "        vertical-align: top;\n",
       "    }\n",
       "\n",
       "    .dataframe thead th {\n",
       "        text-align: right;\n",
       "    }\n",
       "</style>\n",
       "<table border=\"1\" class=\"dataframe\">\n",
       "  <thead>\n",
       "    <tr style=\"text-align: right;\">\n",
       "      <th></th>\n",
       "      <th>designation</th>\n",
       "      <th>company_name</th>\n",
       "      <th>Number_of_Employees</th>\n",
       "      <th>job_description</th>\n",
       "      <th>skills</th>\n",
       "      <th>Years_of_Experience</th>\n",
       "      <th>Category</th>\n",
       "      <th>company_class</th>\n",
       "      <th>Department</th>\n",
       "    </tr>\n",
       "  </thead>\n",
       "  <tbody>\n",
       "    <tr>\n",
       "      <th>0</th>\n",
       "      <td>Business Development Associate (Drive)</td>\n",
       "      <td>MakeMyTrip</td>\n",
       "      <td>1000</td>\n",
       "      <td>Function: Sales and Business → Sales / Busines...</td>\n",
       "      <td>Business Development\\nRevenue Management\\nSales</td>\n",
       "      <td>4</td>\n",
       "      <td>Junior</td>\n",
       "      <td>Class1</td>\n",
       "      <td>Sales and Business</td>\n",
       "    </tr>\n",
       "    <tr>\n",
       "      <th>1</th>\n",
       "      <td>Business Manager (Drive)</td>\n",
       "      <td>MakeMyTrip</td>\n",
       "      <td>1000</td>\n",
       "      <td>Function: Sales and Business → Sales / Busines...</td>\n",
       "      <td>Business Development\\nChannel Sales\\nKey Accou...</td>\n",
       "      <td>6</td>\n",
       "      <td>Senior</td>\n",
       "      <td>Class1</td>\n",
       "      <td>Sales and Business</td>\n",
       "    </tr>\n",
       "    <tr>\n",
       "      <th>3</th>\n",
       "      <td>Key Account Manager (Drive)</td>\n",
       "      <td>MakeMyTrip</td>\n",
       "      <td>1000</td>\n",
       "      <td>Function: Sales and Business → Sales / Busines...</td>\n",
       "      <td>Corporate Sales\\nKey Account Management\\nProfi...</td>\n",
       "      <td>7</td>\n",
       "      <td>Senior</td>\n",
       "      <td>Class1</td>\n",
       "      <td>Sales and Business</td>\n",
       "    </tr>\n",
       "    <tr>\n",
       "      <th>4</th>\n",
       "      <td>Senior Business Development Manager (Drive)</td>\n",
       "      <td>MakeMyTrip</td>\n",
       "      <td>1000</td>\n",
       "      <td>Function: Sales and Business → Sales / Busines...</td>\n",
       "      <td>Business Development\\nCorporate Sales\\nKey Acc...</td>\n",
       "      <td>5</td>\n",
       "      <td>Senior</td>\n",
       "      <td>Class1</td>\n",
       "      <td>Sales and Business</td>\n",
       "    </tr>\n",
       "    <tr>\n",
       "      <th>5</th>\n",
       "      <td>Core Java Developer (Drive)</td>\n",
       "      <td>Publicis Sapient</td>\n",
       "      <td>1000</td>\n",
       "      <td>Function: Software Engineering → Backend Devel...</td>\n",
       "      <td>AWS\\nAzure\\nGoogle Cloud\\nJava\\nKafka\\nKibana\\...</td>\n",
       "      <td>6</td>\n",
       "      <td>Senior</td>\n",
       "      <td>Class1</td>\n",
       "      <td>Software Engineering</td>\n",
       "    </tr>\n",
       "  </tbody>\n",
       "</table>\n",
       "</div>"
      ],
      "text/plain": [
       "                                   designation      company_name  \\\n",
       "0       Business Development Associate (Drive)        MakeMyTrip   \n",
       "1                     Business Manager (Drive)        MakeMyTrip   \n",
       "3                  Key Account Manager (Drive)        MakeMyTrip   \n",
       "4  Senior Business Development Manager (Drive)        MakeMyTrip   \n",
       "5                  Core Java Developer (Drive)  Publicis Sapient   \n",
       "\n",
       "   Number_of_Employees                                    job_description  \\\n",
       "0                 1000  Function: Sales and Business → Sales / Busines...   \n",
       "1                 1000  Function: Sales and Business → Sales / Busines...   \n",
       "3                 1000  Function: Sales and Business → Sales / Busines...   \n",
       "4                 1000  Function: Sales and Business → Sales / Busines...   \n",
       "5                 1000  Function: Software Engineering → Backend Devel...   \n",
       "\n",
       "                                              skills  Years_of_Experience  \\\n",
       "0    Business Development\\nRevenue Management\\nSales                    4   \n",
       "1  Business Development\\nChannel Sales\\nKey Accou...                    6   \n",
       "3  Corporate Sales\\nKey Account Management\\nProfi...                    7   \n",
       "4  Business Development\\nCorporate Sales\\nKey Acc...                    5   \n",
       "5  AWS\\nAzure\\nGoogle Cloud\\nJava\\nKafka\\nKibana\\...                    6   \n",
       "\n",
       "  Category company_class            Department  \n",
       "0   Junior        Class1    Sales and Business  \n",
       "1   Senior        Class1    Sales and Business  \n",
       "3   Senior        Class1    Sales and Business  \n",
       "4   Senior        Class1    Sales and Business  \n",
       "5   Senior        Class1  Software Engineering  "
      ]
     },
     "execution_count": 39,
     "metadata": {},
     "output_type": "execute_result"
    }
   ],
   "source": [
    "df=pd.read_csv(\"C:\\\\Users\\\\piyus.LAPTOP-7O04196B\\\\Downloads\\\\instahyre\\\\dataset\\\\final_table.csv\")\n",
    "df.drop(\"Unnamed: 0\",axis=1,inplace=True)\n",
    "df.drop_duplicates(inplace=True)\n",
    "df.head()"
   ]
  },
  {
   "cell_type": "code",
   "execution_count": 40,
   "id": "94c2f8d8",
   "metadata": {},
   "outputs": [],
   "source": [
    "df =df[[\"skills\",\"Years_of_Experience\",\"Category\"]]"
   ]
  },
  {
   "cell_type": "code",
   "execution_count": 41,
   "id": "05fde2ef",
   "metadata": {},
   "outputs": [],
   "source": [
    "df['new_sen']=np.where(df[\"Years_of_Experience\"]<=5,'junior',np.where((df['Years_of_Experience']>5) & (df['Years_of_Experience']<=8),'Mid Senior','Senior'))"
   ]
  },
  {
   "cell_type": "code",
   "execution_count": 42,
   "id": "13877d77",
   "metadata": {},
   "outputs": [
    {
     "data": {
      "text/plain": [
       "Senior        175\n",
       "Mid Senior    164\n",
       "junior        116\n",
       "Name: new_sen, dtype: int64"
      ]
     },
     "execution_count": 42,
     "metadata": {},
     "output_type": "execute_result"
    }
   ],
   "source": [
    "df.new_sen.value_counts()"
   ]
  },
  {
   "cell_type": "code",
   "execution_count": 43,
   "id": "413ba185",
   "metadata": {},
   "outputs": [
    {
     "data": {
      "text/plain": [
       "Lead          231\n",
       "Senior        157\n",
       "Junior         36\n",
       "Fresher        26\n",
       "Specialist      5\n",
       "Name: Category, dtype: int64"
      ]
     },
     "execution_count": 43,
     "metadata": {},
     "output_type": "execute_result"
    }
   ],
   "source": [
    "df[\"Category\"].value_counts()"
   ]
  },
  {
   "cell_type": "code",
   "execution_count": 47,
   "id": "178287f5",
   "metadata": {},
   "outputs": [],
   "source": [
    "import nltk\n",
    "from nltk.corpus import stopwords\n",
    "from nltk.stem import PorterStemmer\n",
    "pc=PorterStemmer()"
   ]
  },
  {
   "cell_type": "code",
   "execution_count": 48,
   "id": "31f7c8ed",
   "metadata": {},
   "outputs": [],
   "source": [
    "def transfrom_text(x):\n",
    "    y = nltk.word_tokenize(x.lower())\n",
    "    z = []\n",
    "    for i in y:\n",
    "        if i.isalnum():\n",
    "            z.append(i)\n",
    "    y = z[:]\n",
    "    z.clear()\n",
    "    for i in y:\n",
    "        if i not in stopwords.words('english'):\n",
    "            z.append(i)\n",
    "    y=z[:]\n",
    "    z.clear()\n",
    "    for i in y:\n",
    "        z.append(pc.stem(i))\n",
    "    return ' '.join(z)"
   ]
  },
  {
   "cell_type": "code",
   "execution_count": 49,
   "id": "4d659f78",
   "metadata": {},
   "outputs": [],
   "source": [
    "df['transfrom_skill']=df.skills.map(transfrom_text)"
   ]
  },
  {
   "cell_type": "code",
   "execution_count": 50,
   "id": "86eac077",
   "metadata": {},
   "outputs": [
    {
     "data": {
      "text/html": [
       "<div>\n",
       "<style scoped>\n",
       "    .dataframe tbody tr th:only-of-type {\n",
       "        vertical-align: middle;\n",
       "    }\n",
       "\n",
       "    .dataframe tbody tr th {\n",
       "        vertical-align: top;\n",
       "    }\n",
       "\n",
       "    .dataframe thead th {\n",
       "        text-align: right;\n",
       "    }\n",
       "</style>\n",
       "<table border=\"1\" class=\"dataframe\">\n",
       "  <thead>\n",
       "    <tr style=\"text-align: right;\">\n",
       "      <th></th>\n",
       "      <th>skills</th>\n",
       "      <th>Years_of_Experience</th>\n",
       "      <th>Category</th>\n",
       "      <th>new_sen</th>\n",
       "      <th>transfrom_skill</th>\n",
       "    </tr>\n",
       "  </thead>\n",
       "  <tbody>\n",
       "    <tr>\n",
       "      <th>0</th>\n",
       "      <td>Business Development\\nRevenue Management\\nSales</td>\n",
       "      <td>4</td>\n",
       "      <td>Junior</td>\n",
       "      <td>junior</td>\n",
       "      <td>busi develop revenu manag sale</td>\n",
       "    </tr>\n",
       "  </tbody>\n",
       "</table>\n",
       "</div>"
      ],
      "text/plain": [
       "                                            skills  Years_of_Experience  \\\n",
       "0  Business Development\\nRevenue Management\\nSales                    4   \n",
       "\n",
       "  Category new_sen                 transfrom_skill  \n",
       "0   Junior  junior  busi develop revenu manag sale  "
      ]
     },
     "execution_count": 50,
     "metadata": {},
     "output_type": "execute_result"
    }
   ],
   "source": [
    "df.head(1)"
   ]
  },
  {
   "cell_type": "code",
   "execution_count": 51,
   "id": "af2d5a08",
   "metadata": {},
   "outputs": [
    {
     "data": {
      "text/plain": [
       "Lead          231\n",
       "Senior        157\n",
       "Junior         36\n",
       "Fresher        26\n",
       "Specialist      5\n",
       "Name: Category, dtype: int64"
      ]
     },
     "execution_count": 51,
     "metadata": {},
     "output_type": "execute_result"
    }
   ],
   "source": [
    "df.Category.value_counts()"
   ]
  },
  {
   "cell_type": "code",
   "execution_count": 52,
   "id": "8047f5fb",
   "metadata": {},
   "outputs": [],
   "source": [
    "df[\"Category\"] = df[\"Category\"].replace({\"Fresher\":1,\"Junior\":1,\"Senior\":2,\"Lead\":3,\"Specialist\":4})"
   ]
  },
  {
   "cell_type": "code",
   "execution_count": 53,
   "id": "8bc1bd22",
   "metadata": {},
   "outputs": [],
   "source": [
    "#df[\"new_sen\"] = df[\"new_sen\"].replace({\"junior\":1,\"Mid Senior\":2,\"Senior\":3})"
   ]
  },
  {
   "cell_type": "code",
   "execution_count": 54,
   "id": "c09b06a6",
   "metadata": {},
   "outputs": [],
   "source": [
    "from sklearn.feature_extraction.text import CountVectorizer\n",
    "from sklearn import tree\n",
    "from sklearn.tree import plot_tree, DecisionTreeClassifier\n",
    "from sklearn import metrics, linear_model\n",
    "from sklearn.linear_model import LogisticRegression\n",
    "from sklearn.model_selection import train_test_split\n",
    "from sklearn.ensemble import RandomForestClassifier"
   ]
  },
  {
   "cell_type": "code",
   "execution_count": 55,
   "id": "fadd9240",
   "metadata": {},
   "outputs": [],
   "source": [
    "cv_1=CountVectorizer()"
   ]
  },
  {
   "cell_type": "code",
   "execution_count": 56,
   "id": "2da9c465",
   "metadata": {},
   "outputs": [],
   "source": [
    "x=cv_1.fit_transform(df.transfrom_skill)\n",
    "y=df.Category"
   ]
  },
  {
   "cell_type": "code",
   "execution_count": 57,
   "id": "c3f4bd54",
   "metadata": {},
   "outputs": [],
   "source": [
    "x_train, x_test, y_train, y_test = train_test_split(x, y, test_size=0.15, random_state=15)"
   ]
  },
  {
   "cell_type": "code",
   "execution_count": 58,
   "id": "a72d2f74",
   "metadata": {},
   "outputs": [],
   "source": [
    "models = {\n",
    "    \"Logistic Regression\": LogisticRegression(multi_class='multinomial',random_state=11),\n",
    "    \"Random Forest\": RandomForestClassifier(random_state=11),\n",
    "    \"Descision Tree\": DecisionTreeClassifier(criterion='gini', random_state=11)\n",
    "}"
   ]
  },
  {
   "cell_type": "code",
   "execution_count": 59,
   "id": "81661914",
   "metadata": {},
   "outputs": [
    {
     "name": "stdout",
     "output_type": "stream",
     "text": [
      "Logistic Regression : 53.62%\n",
      "\n",
      "              precision    recall  f1-score   support\n",
      "\n",
      "           1       0.80      0.44      0.57         9\n",
      "           2       0.53      0.27      0.36        30\n",
      "           3       0.51      0.83      0.63        30\n",
      "\n",
      "    accuracy                           0.54        69\n",
      "   macro avg       0.61      0.51      0.52        69\n",
      "weighted avg       0.56      0.54      0.50        69\n",
      "\n",
      "\n"
     ]
    },
    {
     "data": {
      "image/png": "[encoded data removed]",
      "text/plain": [
       "<Figure size 640x480 with 2 Axes>"
      ]
     },
     "metadata": {},
     "output_type": "display_data"
    },
    {
     "name": "stdout",
     "output_type": "stream",
     "text": [
      "Random Forest : 55.07%\n",
      "\n",
      "              precision    recall  f1-score   support\n",
      "\n",
      "           1       0.60      0.67      0.63         9\n",
      "           2       0.64      0.23      0.34        30\n",
      "           3       0.52      0.83      0.64        30\n",
      "\n",
      "    accuracy                           0.55        69\n",
      "   macro avg       0.59      0.58      0.54        69\n",
      "weighted avg       0.58      0.55      0.51        69\n",
      "\n",
      "\n"
     ]
    },
    {
     "data": {
      "image/png": "[encoded data removed]",
      "text/plain": [
       "<Figure size 640x480 with 2 Axes>"
      ]
     },
     "metadata": {},
     "output_type": "display_data"
    },
    {
     "name": "stdout",
     "output_type": "stream",
     "text": [
      "Descision Tree : 55.07%\n",
      "\n",
      "              precision    recall  f1-score   support\n",
      "\n",
      "           1       0.55      0.67      0.60         9\n",
      "           2       0.67      0.27      0.38        30\n",
      "           3       0.52      0.80      0.63        30\n",
      "\n",
      "    accuracy                           0.55        69\n",
      "   macro avg       0.58      0.58      0.54        69\n",
      "weighted avg       0.59      0.55      0.52        69\n",
      "\n",
      "\n"
     ]
    },
    {
     "data": {
      "image/png": "[encoded data removed]",
      "text/plain": [
       "<Figure size 640x480 with 2 Axes>"
      ]
     },
     "metadata": {},
     "output_type": "display_data"
    }
   ],
   "source": [
    "for name, model in models.items():\n",
    "    model.fit(x_train, y_train)\n",
    "    y_pred = model.predict(x_test)\n",
    "    print(name + \" : {:.2f}%\".format(metrics.accuracy_score(y_test, y_pred)*100))\n",
    "    print()\n",
    "    print(metrics.classification_report(y_test, y_pred))\n",
    "    print()\n",
    "    sns.heatmap(metrics.confusion_matrix(y_test, y_pred), annot=True)\n",
    "    plt.show()"
   ]
  },
  {
   "cell_type": "code",
   "execution_count": 60,
   "id": "ad2bc592",
   "metadata": {},
   "outputs": [
    {
     "data": {
      "text/html": [
       "<style>#sk-container-id-2 {color: black;background-color: white;}#sk-container-id-2 pre{padding: 0;}#sk-container-id-2 div.sk-toggleable {background-color: white;}#sk-container-id-2 label.sk-toggleable__label {cursor: pointer;display: block;width: 100%;margin-bottom: 0;padding: 0.3em;box-sizing: border-box;text-align: center;}#sk-container-id-2 label.sk-toggleable__label-arrow:before {content: \"▸\";float: left;margin-right: 0.25em;color: #696969;}#sk-container-id-2 label.sk-toggleable__label-arrow:hover:before {color: black;}#sk-container-id-2 div.sk-estimator:hover label.sk-toggleable__label-arrow:before {color: black;}#sk-container-id-2 div.sk-toggleable__content {max-height: 0;max-width: 0;overflow: hidden;text-align: left;background-color: #f0f8ff;}#sk-container-id-2 div.sk-toggleable__content pre {margin: 0.2em;color: black;border-radius: 0.25em;background-color: #f0f8ff;}#sk-container-id-2 input.sk-toggleable__control:checked~div.sk-toggleable__content {max-height: 200px;max-width: 100%;overflow: auto;}#sk-container-id-2 input.sk-toggleable__control:checked~label.sk-toggleable__label-arrow:before {content: \"▾\";}#sk-container-id-2 div.sk-estimator input.sk-toggleable__control:checked~label.sk-toggleable__label {background-color: #d4ebff;}#sk-container-id-2 div.sk-label input.sk-toggleable__control:checked~label.sk-toggleable__label {background-color: #d4ebff;}#sk-container-id-2 input.sk-hidden--visually {border: 0;clip: rect(1px 1px 1px 1px);clip: rect(1px, 1px, 1px, 1px);height: 1px;margin: -1px;overflow: hidden;padding: 0;position: absolute;width: 1px;}#sk-container-id-2 div.sk-estimator {font-family: monospace;background-color: #f0f8ff;border: 1px dotted black;border-radius: 0.25em;box-sizing: border-box;margin-bottom: 0.5em;}#sk-container-id-2 div.sk-estimator:hover {background-color: #d4ebff;}#sk-container-id-2 div.sk-parallel-item::after {content: \"\";width: 100%;border-bottom: 1px solid gray;flex-grow: 1;}#sk-container-id-2 div.sk-label:hover label.sk-toggleable__label {background-color: #d4ebff;}#sk-container-id-2 div.sk-serial::before {content: \"\";position: absolute;border-left: 1px solid gray;box-sizing: border-box;top: 0;bottom: 0;left: 50%;z-index: 0;}#sk-container-id-2 div.sk-serial {display: flex;flex-direction: column;align-items: center;background-color: white;padding-right: 0.2em;padding-left: 0.2em;position: relative;}#sk-container-id-2 div.sk-item {position: relative;z-index: 1;}#sk-container-id-2 div.sk-parallel {display: flex;align-items: stretch;justify-content: center;background-color: white;position: relative;}#sk-container-id-2 div.sk-item::before, #sk-container-id-2 div.sk-parallel-item::before {content: \"\";position: absolute;border-left: 1px solid gray;box-sizing: border-box;top: 0;bottom: 0;left: 50%;z-index: -1;}#sk-container-id-2 div.sk-parallel-item {display: flex;flex-direction: column;z-index: 1;position: relative;background-color: white;}#sk-container-id-2 div.sk-parallel-item:first-child::after {align-self: flex-end;width: 50%;}#sk-container-id-2 div.sk-parallel-item:last-child::after {align-self: flex-start;width: 50%;}#sk-container-id-2 div.sk-parallel-item:only-child::after {width: 0;}#sk-container-id-2 div.sk-dashed-wrapped {border: 1px dashed gray;margin: 0 0.4em 0.5em 0.4em;box-sizing: border-box;padding-bottom: 0.4em;background-color: white;}#sk-container-id-2 div.sk-label label {font-family: monospace;font-weight: bold;display: inline-block;line-height: 1.2em;}#sk-container-id-2 div.sk-label-container {text-align: center;}#sk-container-id-2 div.sk-container {/* jupyter's `normalize.less` sets `[hidden] { display: none; }` but bootstrap.min.css set `[hidden] { display: none !important; }` so we also need the `!important` here to be able to override the default hidden behavior on the sphinx rendered scikit-learn.org. See: https://github.com/scikit-learn/scikit-learn/issues/21755 */display: inline-block !important;position: relative;}#sk-container-id-2 div.sk-text-repr-fallback {display: none;}</style><div id=\"sk-container-id-2\" class=\"sk-top-container\"><div class=\"sk-text-repr-fallback\"><pre>RandomForestClassifier(random_state=11)</pre><b>In a Jupyter environment, please rerun this cell to show the HTML representation or trust the notebook. <br />On GitHub, the HTML representation is unable to render, please try loading this page with nbviewer.org.</b></div><div class=\"sk-container\" hidden><div class=\"sk-item\"><div class=\"sk-estimator sk-toggleable\"><input class=\"sk-toggleable__control sk-hidden--visually\" id=\"sk-estimator-id-2\" type=\"checkbox\" checked><label for=\"sk-estimator-id-2\" class=\"sk-toggleable__label sk-toggleable__label-arrow\">RandomForestClassifier</label><div class=\"sk-toggleable__content\"><pre>RandomForestClassifier(random_state=11)</pre></div></div></div></div></div>"
      ],
      "text/plain": [
       "RandomForestClassifier(random_state=11)"
      ]
     },
     "execution_count": 60,
     "metadata": {},
     "output_type": "execute_result"
    }
   ],
   "source": [
    "# model \n",
    "model_1=RandomForestClassifier(random_state=11)\n",
    "model_1.fit(x_train,y_train)"
   ]
  },
  {
   "cell_type": "code",
   "execution_count": 61,
   "id": "bbbd012d",
   "metadata": {},
   "outputs": [
    {
     "name": "stdout",
     "output_type": "stream",
     "text": [
      "0.5507246376811594\n"
     ]
    }
   ],
   "source": [
    "y_pred=model_1.predict(x_test)\n",
    "print(metrics.accuracy_score(y_test,y_pred))"
   ]
  },
  {
   "cell_type": "code",
   "execution_count": 62,
   "id": "c1ff7797",
   "metadata": {},
   "outputs": [],
   "source": [
    "def pred_1(x):\n",
    "    pred = model_1.predict(cv_1.transform([transfrom_text(x)]))\n",
    "    if pred==1:\n",
    "        return \"Fresher\"\n",
    "    elif pred==2: \n",
    "        return \"Senior\"\n",
    "    elif pred==3:\n",
    "        return \"Lead\"\n",
    "    elif pred==4:\n",
    "        return \"Specialist\"\n",
    "    else:\n",
    "        return \"Other\""
   ]
  },
  {
   "cell_type": "code",
   "execution_count": 63,
   "id": "ae155d40",
   "metadata": {},
   "outputs": [
    {
     "name": "stdout",
     "output_type": "stream",
     "text": [
      "Lead\n"
     ]
    }
   ],
   "source": [
    "print(pred_1('Java,MariaDB,Spring Boot,J2EE,MySQL'))"
   ]
  },
  {
   "cell_type": "code",
   "execution_count": 64,
   "id": "b5183ffe",
   "metadata": {},
   "outputs": [],
   "source": [
    "import pickle"
   ]
  },
  {
   "cell_type": "code",
   "execution_count": 65,
   "id": "bf6a8dad",
   "metadata": {},
   "outputs": [],
   "source": [
    "pickle.dump(model_1,open('model_1.pkl','wb'))\n",
    "pickle.dump(cv_1,open('vectorizer_1.pkl','wb'))"
   ]
  },
  {
   "cell_type": "code",
   "execution_count": null,
   "id": "1eb874aa",
   "metadata": {},
   "outputs": [],
   "source": []
  }
 ],
 "metadata": {
  "kernelspec": {
   "display_name": "Python 3 (ipykernel)",
   "language": "python",
   "name": "python3"
  },
  "language_info": {
   "codemirror_mode": {
    "name": "ipython",
    "version": 3
   },
   "file_extension": ".py",
   "mimetype": "text/x-python",
   "name": "python",
   "nbconvert_exporter": "python",
   "pygments_lexer": "ipython3",
   "version": "3.10.9"
  }
 },
 "nbformat": 4,
 "nbformat_minor": 5
}

{
 "cells": [
  {
   "cell_type": "code",
   "execution_count": 1,
   "id": "4bf5f36c",
   "metadata": {},
   "outputs": [],
   "source": [
    "import pandas as pd"
   ]
  },
  {
   "cell_type": "code",
   "execution_count": 2,
   "id": "e4325e6e",
   "metadata": {},
   "outputs": [],
   "source": [
    "df= pd.read_csv(\"Job_details500 (2).csv\")"
   ]
  },
  {
   "cell_type": "code",
   "execution_count": 4,
   "id": "4c43828c",
   "metadata": {},
   "outputs": [],
   "source": [
    "x = [\"Unnamed: 0\", \"location\",\"emp_overall_rating\", \"emp_wl_bal_rating\", \"emp_salary_n_benefits_rating\", \"emp_comp_culture_rating\", \"emp_career_growth_rating\", \"emp_diversity_n_inclusion_rating\", \"emp_likely_to_recomm_rating\"]\n",
    "\n",
    "df = df.drop(x, axis=1)"
   ]
  },
  {
   "cell_type": "code",
   "execution_count": 5,
   "id": "b5233403",
   "metadata": {},
   "outputs": [],
   "source": [
    "y= [\"hr_name\", \"estab_year\"]\n",
    "df = df.drop(y, axis=1)"
   ]
  },
  {
   "cell_type": "markdown",
   "id": "3d0788ac",
   "metadata": {},
   "source": [
    "### Company Class"
   ]
  },
  {
   "cell_type": "code",
   "execution_count": 105,
   "id": "9019c5f6",
   "metadata": {},
   "outputs": [
    {
     "data": {
      "text/html": [
       "<div>\n",
       "<style scoped>\n",
       "    .dataframe tbody tr th:only-of-type {\n",
       "        vertical-align: middle;\n",
       "    }\n",
       "\n",
       "    .dataframe tbody tr th {\n",
       "        vertical-align: top;\n",
       "    }\n",
       "\n",
       "    .dataframe thead th {\n",
       "        text-align: right;\n",
       "    }\n",
       "</style>\n",
       "<table border=\"1\" class=\"dataframe\">\n",
       "  <thead>\n",
       "    <tr style=\"text-align: right;\">\n",
       "      <th></th>\n",
       "      <th>designation</th>\n",
       "      <th>company_name</th>\n",
       "      <th>Number_of_Employees</th>\n",
       "      <th>job_description</th>\n",
       "      <th>skills</th>\n",
       "      <th>Years_of_Experience</th>\n",
       "      <th>Category</th>\n",
       "      <th>company_class</th>\n",
       "      <th>Department</th>\n",
       "      <th>transfrom_skill</th>\n",
       "      <th>transfrom_Department</th>\n",
       "      <th>class</th>\n",
       "    </tr>\n",
       "  </thead>\n",
       "  <tbody>\n",
       "    <tr>\n",
       "      <th>0</th>\n",
       "      <td>Business Development Associate (Drive)</td>\n",
       "      <td>MakeMyTrip</td>\n",
       "      <td>1000</td>\n",
       "      <td>Function: Sales and Business → Sales / Busines...</td>\n",
       "      <td>Business Development\\nRevenue Management\\nSales</td>\n",
       "      <td>4</td>\n",
       "      <td>Junior</td>\n",
       "      <td>Class1</td>\n",
       "      <td>Sales and Business</td>\n",
       "      <td>busi develop revenu manag sale</td>\n",
       "      <td>sale busi</td>\n",
       "      <td>1</td>\n",
       "    </tr>\n",
       "    <tr>\n",
       "      <th>1</th>\n",
       "      <td>Business Manager (Drive)</td>\n",
       "      <td>MakeMyTrip</td>\n",
       "      <td>1000</td>\n",
       "      <td>Function: Sales and Business → Sales / Busines...</td>\n",
       "      <td>Business Development\\nChannel Sales\\nKey Accou...</td>\n",
       "      <td>6</td>\n",
       "      <td>Senior</td>\n",
       "      <td>Class1</td>\n",
       "      <td>Sales and Business</td>\n",
       "      <td>busi develop channel sale key account manag mi...</td>\n",
       "      <td>sale busi</td>\n",
       "      <td>1</td>\n",
       "    </tr>\n",
       "    <tr>\n",
       "      <th>2</th>\n",
       "      <td>Business Manager (Drive)</td>\n",
       "      <td>MakeMyTrip</td>\n",
       "      <td>1000</td>\n",
       "      <td>Function: Sales and Business → Sales / Busines...</td>\n",
       "      <td>Business Development\\nChannel Sales\\nKey Accou...</td>\n",
       "      <td>6</td>\n",
       "      <td>Senior</td>\n",
       "      <td>Class1</td>\n",
       "      <td>Sales and Business</td>\n",
       "      <td>busi develop channel sale key account manag mi...</td>\n",
       "      <td>sale busi</td>\n",
       "      <td>1</td>\n",
       "    </tr>\n",
       "    <tr>\n",
       "      <th>3</th>\n",
       "      <td>Key Account Manager (Drive)</td>\n",
       "      <td>MakeMyTrip</td>\n",
       "      <td>1000</td>\n",
       "      <td>Function: Sales and Business → Sales / Busines...</td>\n",
       "      <td>Corporate Sales\\nKey Account Management\\nProfi...</td>\n",
       "      <td>7</td>\n",
       "      <td>Senior</td>\n",
       "      <td>Class1</td>\n",
       "      <td>Sales and Business</td>\n",
       "      <td>corpor sale key account manag profit loss mana...</td>\n",
       "      <td>sale busi</td>\n",
       "      <td>1</td>\n",
       "    </tr>\n",
       "    <tr>\n",
       "      <th>4</th>\n",
       "      <td>Senior Business Development Manager (Drive)</td>\n",
       "      <td>MakeMyTrip</td>\n",
       "      <td>1000</td>\n",
       "      <td>Function: Sales and Business → Sales / Busines...</td>\n",
       "      <td>Business Development\\nCorporate Sales\\nKey Acc...</td>\n",
       "      <td>5</td>\n",
       "      <td>Senior</td>\n",
       "      <td>Class1</td>\n",
       "      <td>Sales and Business</td>\n",
       "      <td>busi develop corpor sale key account manag mic...</td>\n",
       "      <td>sale busi</td>\n",
       "      <td>1</td>\n",
       "    </tr>\n",
       "  </tbody>\n",
       "</table>\n",
       "</div>"
      ],
      "text/plain": [
       "                                   designation company_name  \\\n",
       "0       Business Development Associate (Drive)   MakeMyTrip   \n",
       "1                     Business Manager (Drive)   MakeMyTrip   \n",
       "2                     Business Manager (Drive)   MakeMyTrip   \n",
       "3                  Key Account Manager (Drive)   MakeMyTrip   \n",
       "4  Senior Business Development Manager (Drive)   MakeMyTrip   \n",
       "\n",
       "   Number_of_Employees                                    job_description  \\\n",
       "0                 1000  Function: Sales and Business → Sales / Busines...   \n",
       "1                 1000  Function: Sales and Business → Sales / Busines...   \n",
       "2                 1000  Function: Sales and Business → Sales / Busines...   \n",
       "3                 1000  Function: Sales and Business → Sales / Busines...   \n",
       "4                 1000  Function: Sales and Business → Sales / Busines...   \n",
       "\n",
       "                                              skills  Years_of_Experience  \\\n",
       "0    Business Development\\nRevenue Management\\nSales                    4   \n",
       "1  Business Development\\nChannel Sales\\nKey Accou...                    6   \n",
       "2  Business Development\\nChannel Sales\\nKey Accou...                    6   \n",
       "3  Corporate Sales\\nKey Account Management\\nProfi...                    7   \n",
       "4  Business Development\\nCorporate Sales\\nKey Acc...                    5   \n",
       "\n",
       "  Category company_class          Department  \\\n",
       "0   Junior        Class1  Sales and Business   \n",
       "1   Senior        Class1  Sales and Business   \n",
       "2   Senior        Class1  Sales and Business   \n",
       "3   Senior        Class1  Sales and Business   \n",
       "4   Senior        Class1  Sales and Business   \n",
       "\n",
       "                                     transfrom_skill transfrom_Department  \\\n",
       "0                     busi develop revenu manag sale            sale busi   \n",
       "1  busi develop channel sale key account manag mi...            sale busi   \n",
       "2  busi develop channel sale key account manag mi...            sale busi   \n",
       "3  corpor sale key account manag profit loss mana...            sale busi   \n",
       "4  busi develop corpor sale key account manag mic...            sale busi   \n",
       "\n",
       "   class  \n",
       "0      1  \n",
       "1      1  \n",
       "2      1  \n",
       "3      1  \n",
       "4      1  "
      ]
     },
     "execution_count": 105,
     "metadata": {},
     "output_type": "execute_result"
    }
   ],
   "source": [
    "df.head()"
   ]
  },
  {
   "cell_type": "code",
   "execution_count": 106,
   "id": "72fb830f",
   "metadata": {},
   "outputs": [],
   "source": [
    "df[\"class\"]=df[\"company_class\"].replace({\"Class1\":1,\"Class2\":2,\"Class3\":3,\"Class4\":4})"
   ]
  },
  {
   "cell_type": "code",
   "execution_count": 107,
   "id": "da0b763c",
   "metadata": {},
   "outputs": [
    {
     "data": {
      "text/plain": [
       "1    182\n",
       "2    100\n",
       "4     99\n",
       "3     80\n",
       "Name: class, dtype: int64"
      ]
     },
     "execution_count": 107,
     "metadata": {},
     "output_type": "execute_result"
    }
   ],
   "source": [
    "df[\"class\"].value_counts()"
   ]
  },
  {
   "cell_type": "code",
   "execution_count": 108,
   "id": "6bad33dd",
   "metadata": {},
   "outputs": [],
   "source": [
    "x=cv_3.fit_transform(df.transfrom_skill)\n",
    "y=df[\"class\"]"
   ]
  },
  {
   "cell_type": "code",
   "execution_count": 109,
   "id": "4d7bfc60",
   "metadata": {},
   "outputs": [],
   "source": [
    "x_train, x_test, y_train, y_test = train_test_split(x,y,test_size=0.1, random_state=11)"
   ]
  },
  {
   "cell_type": "code",
   "execution_count": 110,
   "id": "6ba16968",
   "metadata": {},
   "outputs": [
    {
     "name": "stdout",
     "output_type": "stream",
     "text": [
      "0.5957446808510638\n"
     ]
    }
   ],
   "source": [
    "lg.fit(x_train,y_train)\n",
    "y_pred=lg.predict(x_test)\n",
    "y_pred\n",
    "from sklearn import metrics\n",
    "print(metrics.accuracy_score(y_test,y_pred))"
   ]
  },
  {
   "cell_type": "code",
   "execution_count": 111,
   "id": "76b9ca54",
   "metadata": {},
   "outputs": [
    {
     "name": "stdout",
     "output_type": "stream",
     "text": [
      "LogisticRegression(multi_class='multinomial') 0.5957446808510638\n",
      "DecisionTreeClassifier(random_state=15) 0.425531914893617\n",
      "SVC() 0.425531914893617\n",
      "RandomForestClassifier(n_estimators=40, random_state=15) 0.48936170212765956\n"
     ]
    }
   ],
   "source": [
    "models=[lg,dt,clf,rfcl]\n",
    "for i in models:\n",
    "    i.fit(x_train, y_train)\n",
    "    print(i, metrics.accuracy_score(y_test, i.predict(x_test)))"
   ]
  },
  {
   "cell_type": "code",
   "execution_count": 112,
   "id": "1b3ef72e",
   "metadata": {},
   "outputs": [
    {
     "data": {
      "text/plain": [
       "LogisticRegression(multi_class='multinomial')"
      ]
     },
     "execution_count": 112,
     "metadata": {},
     "output_type": "execute_result"
    }
   ],
   "source": [
    "model_3=LogisticRegression(multi_class='multinomial')\n",
    "model_3.fit(x_train,y_train)"
   ]
  },
  {
   "cell_type": "code",
   "execution_count": 113,
   "id": "55316967",
   "metadata": {},
   "outputs": [
    {
     "name": "stdout",
     "output_type": "stream",
     "text": [
      "0.5957446808510638\n"
     ]
    }
   ],
   "source": [
    "y_pred=model_3.predict(x_test)\n",
    "print(metrics.accuracy_score(y_test,y_pred))"
   ]
  },
  {
   "cell_type": "code",
   "execution_count": 114,
   "id": "214288bb",
   "metadata": {},
   "outputs": [],
   "source": [
    "def pred_3(jk):\n",
    "    pred = model_3.predict(cv_3.transform([transfrom_text(jk)]))\n",
    "    if pred == 1:\n",
    "        return \"Class 1\"\n",
    "    elif pred==2:\n",
    "        return \"Class 2\"\n",
    "    elif pred==3:\n",
    "        return \"Class 3\"\n",
    "    else: \n",
    "        return \"Class 4\""
   ]
  },
  {
   "cell_type": "code",
   "execution_count": 115,
   "id": "e0e312ef",
   "metadata": {},
   "outputs": [
    {
     "name": "stdout",
     "output_type": "stream",
     "text": [
      "Class 4\n"
     ]
    }
   ],
   "source": [
    "print(pred_3('Java,MariaDB,Spring Boot,J2EE,MySQL'))"
   ]
  },
  {
   "cell_type": "code",
   "execution_count": 116,
   "id": "3138b001",
   "metadata": {},
   "outputs": [],
   "source": [
    "import pickle"
   ]
  },
  {
   "cell_type": "code",
   "execution_count": 117,
   "id": "422d2c1a",
   "metadata": {},
   "outputs": [],
   "source": [
    "pickle.dump(model_3,open('model_3.pkl','wb'))\n",
    "pickle.dump(cv_3,open('vectorizer_3.pkl','wb'))"
   ]
  },
  {
   "cell_type": "code",
   "execution_count": null,
   "id": "f61bb807",
   "metadata": {},
   "outputs": [],
   "source": []
  }
 ],
 "metadata": {
  "kernelspec": {
   "display_name": "Python 3 (ipykernel)",
   "language": "python",
   "name": "python3"
  },
  "language_info": {
   "codemirror_mode": {
    "name": "ipython",
    "version": 3
   },
   "file_extension": ".py",
   "mimetype": "text/x-python",
   "name": "python",
   "nbconvert_exporter": "python",
   "pygments_lexer": "ipython3",
   "version": "3.10.9"
  }
 },
 "nbformat": 4,
 "nbformat_minor": 5
}

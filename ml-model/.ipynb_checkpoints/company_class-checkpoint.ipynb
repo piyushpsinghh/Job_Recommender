{
 "cells": [
  {
   "cell_type": "code",
   "execution_count": 36,
   "id": "b51695a1",
   "metadata": {},
   "outputs": [],
   "source": [
    "import pandas as pd\n",
    "import numpy as np\n",
    "import seaborn as sns\n",
    "import matplotlib.pyplot as plt"
   ]
  },
  {
   "cell_type": "code",
   "execution_count": 37,
   "id": "18d59296",
   "metadata": {},
   "outputs": [
    {
     "data": {
      "text/html": [
       "<div>\n",
       "<style scoped>\n",
       "    .dataframe tbody tr th:only-of-type {\n",
       "        vertical-align: middle;\n",
       "    }\n",
       "\n",
       "    .dataframe tbody tr th {\n",
       "        vertical-align: top;\n",
       "    }\n",
       "\n",
       "    .dataframe thead th {\n",
       "        text-align: right;\n",
       "    }\n",
       "</style>\n",
       "<table border=\"1\" class=\"dataframe\">\n",
       "  <thead>\n",
       "    <tr style=\"text-align: right;\">\n",
       "      <th></th>\n",
       "      <th>designation</th>\n",
       "      <th>company_name</th>\n",
       "      <th>Number_of_Employees</th>\n",
       "      <th>job_description</th>\n",
       "      <th>skills</th>\n",
       "      <th>Years_of_Experience</th>\n",
       "      <th>Category</th>\n",
       "      <th>company_class</th>\n",
       "      <th>Department</th>\n",
       "    </tr>\n",
       "  </thead>\n",
       "  <tbody>\n",
       "    <tr>\n",
       "      <th>0</th>\n",
       "      <td>Business Development Associate (Drive)</td>\n",
       "      <td>MakeMyTrip</td>\n",
       "      <td>1000</td>\n",
       "      <td>Function: Sales and Business → Sales / Busines...</td>\n",
       "      <td>Business Development\\nRevenue Management\\nSales</td>\n",
       "      <td>4</td>\n",
       "      <td>Junior</td>\n",
       "      <td>Class1</td>\n",
       "      <td>Sales and Business</td>\n",
       "    </tr>\n",
       "    <tr>\n",
       "      <th>1</th>\n",
       "      <td>Business Manager (Drive)</td>\n",
       "      <td>MakeMyTrip</td>\n",
       "      <td>1000</td>\n",
       "      <td>Function: Sales and Business → Sales / Busines...</td>\n",
       "      <td>Business Development\\nChannel Sales\\nKey Accou...</td>\n",
       "      <td>6</td>\n",
       "      <td>Senior</td>\n",
       "      <td>Class1</td>\n",
       "      <td>Sales and Business</td>\n",
       "    </tr>\n",
       "    <tr>\n",
       "      <th>3</th>\n",
       "      <td>Key Account Manager (Drive)</td>\n",
       "      <td>MakeMyTrip</td>\n",
       "      <td>1000</td>\n",
       "      <td>Function: Sales and Business → Sales / Busines...</td>\n",
       "      <td>Corporate Sales\\nKey Account Management\\nProfi...</td>\n",
       "      <td>7</td>\n",
       "      <td>Senior</td>\n",
       "      <td>Class1</td>\n",
       "      <td>Sales and Business</td>\n",
       "    </tr>\n",
       "    <tr>\n",
       "      <th>4</th>\n",
       "      <td>Senior Business Development Manager (Drive)</td>\n",
       "      <td>MakeMyTrip</td>\n",
       "      <td>1000</td>\n",
       "      <td>Function: Sales and Business → Sales / Busines...</td>\n",
       "      <td>Business Development\\nCorporate Sales\\nKey Acc...</td>\n",
       "      <td>5</td>\n",
       "      <td>Senior</td>\n",
       "      <td>Class1</td>\n",
       "      <td>Sales and Business</td>\n",
       "    </tr>\n",
       "    <tr>\n",
       "      <th>5</th>\n",
       "      <td>Core Java Developer (Drive)</td>\n",
       "      <td>Publicis Sapient</td>\n",
       "      <td>1000</td>\n",
       "      <td>Function: Software Engineering → Backend Devel...</td>\n",
       "      <td>AWS\\nAzure\\nGoogle Cloud\\nJava\\nKafka\\nKibana\\...</td>\n",
       "      <td>6</td>\n",
       "      <td>Senior</td>\n",
       "      <td>Class1</td>\n",
       "      <td>Software Engineering</td>\n",
       "    </tr>\n",
       "  </tbody>\n",
       "</table>\n",
       "</div>"
      ],
      "text/plain": [
       "                                   designation      company_name  \\\n",
       "0       Business Development Associate (Drive)        MakeMyTrip   \n",
       "1                     Business Manager (Drive)        MakeMyTrip   \n",
       "3                  Key Account Manager (Drive)        MakeMyTrip   \n",
       "4  Senior Business Development Manager (Drive)        MakeMyTrip   \n",
       "5                  Core Java Developer (Drive)  Publicis Sapient   \n",
       "\n",
       "   Number_of_Employees                                    job_description  \\\n",
       "0                 1000  Function: Sales and Business → Sales / Busines...   \n",
       "1                 1000  Function: Sales and Business → Sales / Busines...   \n",
       "3                 1000  Function: Sales and Business → Sales / Busines...   \n",
       "4                 1000  Function: Sales and Business → Sales / Busines...   \n",
       "5                 1000  Function: Software Engineering → Backend Devel...   \n",
       "\n",
       "                                              skills  Years_of_Experience  \\\n",
       "0    Business Development\\nRevenue Management\\nSales                    4   \n",
       "1  Business Development\\nChannel Sales\\nKey Accou...                    6   \n",
       "3  Corporate Sales\\nKey Account Management\\nProfi...                    7   \n",
       "4  Business Development\\nCorporate Sales\\nKey Acc...                    5   \n",
       "5  AWS\\nAzure\\nGoogle Cloud\\nJava\\nKafka\\nKibana\\...                    6   \n",
       "\n",
       "  Category company_class            Department  \n",
       "0   Junior        Class1    Sales and Business  \n",
       "1   Senior        Class1    Sales and Business  \n",
       "3   Senior        Class1    Sales and Business  \n",
       "4   Senior        Class1    Sales and Business  \n",
       "5   Senior        Class1  Software Engineering  "
      ]
     },
     "execution_count": 37,
     "metadata": {},
     "output_type": "execute_result"
    }
   ],
   "source": [
    "df=pd.read_csv(\"C:\\\\Users\\\\piyus.LAPTOP-7O04196B\\\\Downloads\\\\instahyre\\\\dataset\\\\final_table.csv\")\n",
    "df.drop(\"Unnamed: 0\",axis=1,inplace=True)\n",
    "df.drop_duplicates(inplace=True)\n",
    "df.head()"
   ]
  },
  {
   "cell_type": "code",
   "execution_count": 38,
   "id": "68182f22",
   "metadata": {},
   "outputs": [
    {
     "data": {
      "text/plain": [
       "Software Engineering         250\n",
       "Sales and Business            64\n",
       "IT Operations and Support     58\n",
       "Marketing                     18\n",
       "Technical Management          17\n",
       "Data Science and Analysis     16\n",
       "Operations                    15\n",
       "Design and Creative            9\n",
       "Human Resources                8\n",
       "Name: Department, dtype: int64"
      ]
     },
     "execution_count": 38,
     "metadata": {},
     "output_type": "execute_result"
    }
   ],
   "source": [
    "df.Department.value_counts()"
   ]
  },
  {
   "cell_type": "code",
   "execution_count": 39,
   "id": "7f829cea",
   "metadata": {},
   "outputs": [
    {
     "data": {
      "text/plain": [
       "80"
      ]
     },
     "execution_count": 39,
     "metadata": {},
     "output_type": "execute_result"
    }
   ],
   "source": [
    "vv=df[df[\"Department\"]==\"Software Engineering\"]\n",
    "df1=vv.iloc[:80]\n",
    "len(df1)"
   ]
  },
  {
   "cell_type": "code",
   "execution_count": 40,
   "id": "862d1822",
   "metadata": {},
   "outputs": [],
   "source": [
    "df=df[df[\"Department\"]!=\"Software Engineering\"]\n",
    "df=pd.concat([df,df1],axis=0)\n"
   ]
  },
  {
   "cell_type": "code",
   "execution_count": 41,
   "id": "e37b8076",
   "metadata": {},
   "outputs": [
    {
     "data": {
      "text/plain": [
       "Software Engineering         80\n",
       "Sales and Business           64\n",
       "IT Operations and Support    58\n",
       "Marketing                    18\n",
       "Technical Management         17\n",
       "Data Science and Analysis    16\n",
       "Operations                   15\n",
       "Design and Creative           9\n",
       "Human Resources               8\n",
       "Name: Department, dtype: int64"
      ]
     },
     "execution_count": 41,
     "metadata": {},
     "output_type": "execute_result"
    }
   ],
   "source": [
    "df.Department.value_counts()"
   ]
  },
  {
   "cell_type": "code",
   "execution_count": 42,
   "id": "ac61a629",
   "metadata": {},
   "outputs": [
    {
     "data": {
      "text/html": [
       "<div>\n",
       "<style scoped>\n",
       "    .dataframe tbody tr th:only-of-type {\n",
       "        vertical-align: middle;\n",
       "    }\n",
       "\n",
       "    .dataframe tbody tr th {\n",
       "        vertical-align: top;\n",
       "    }\n",
       "\n",
       "    .dataframe thead th {\n",
       "        text-align: right;\n",
       "    }\n",
       "</style>\n",
       "<table border=\"1\" class=\"dataframe\">\n",
       "  <thead>\n",
       "    <tr style=\"text-align: right;\">\n",
       "      <th></th>\n",
       "      <th>skills</th>\n",
       "      <th>Number_of_Employees</th>\n",
       "      <th>company_class</th>\n",
       "    </tr>\n",
       "  </thead>\n",
       "  <tbody>\n",
       "    <tr>\n",
       "      <th>0</th>\n",
       "      <td>Business Development\\nRevenue Management\\nSales</td>\n",
       "      <td>1000</td>\n",
       "      <td>Class1</td>\n",
       "    </tr>\n",
       "    <tr>\n",
       "      <th>1</th>\n",
       "      <td>Business Development\\nChannel Sales\\nKey Accou...</td>\n",
       "      <td>1000</td>\n",
       "      <td>Class1</td>\n",
       "    </tr>\n",
       "    <tr>\n",
       "      <th>3</th>\n",
       "      <td>Corporate Sales\\nKey Account Management\\nProfi...</td>\n",
       "      <td>1000</td>\n",
       "      <td>Class1</td>\n",
       "    </tr>\n",
       "    <tr>\n",
       "      <th>4</th>\n",
       "      <td>Business Development\\nCorporate Sales\\nKey Acc...</td>\n",
       "      <td>1000</td>\n",
       "      <td>Class1</td>\n",
       "    </tr>\n",
       "    <tr>\n",
       "      <th>6</th>\n",
       "      <td>AWS\\nAnsible\\nAzure\\nCI - CD\\nDevOps\\nDocker\\n...</td>\n",
       "      <td>1000</td>\n",
       "      <td>Class1</td>\n",
       "    </tr>\n",
       "  </tbody>\n",
       "</table>\n",
       "</div>"
      ],
      "text/plain": [
       "                                              skills  Number_of_Employees  \\\n",
       "0    Business Development\\nRevenue Management\\nSales                 1000   \n",
       "1  Business Development\\nChannel Sales\\nKey Accou...                 1000   \n",
       "3  Corporate Sales\\nKey Account Management\\nProfi...                 1000   \n",
       "4  Business Development\\nCorporate Sales\\nKey Acc...                 1000   \n",
       "6  AWS\\nAnsible\\nAzure\\nCI - CD\\nDevOps\\nDocker\\n...                 1000   \n",
       "\n",
       "  company_class  \n",
       "0        Class1  \n",
       "1        Class1  \n",
       "3        Class1  \n",
       "4        Class1  \n",
       "6        Class1  "
      ]
     },
     "execution_count": 42,
     "metadata": {},
     "output_type": "execute_result"
    }
   ],
   "source": [
    "df=df[[\"skills\",\"Number_of_Employees\",\"company_class\"]]\n",
    "df.head()"
   ]
  },
  {
   "cell_type": "code",
   "execution_count": 43,
   "id": "cf106666",
   "metadata": {},
   "outputs": [],
   "source": [
    "from nltk.corpus import stopwords\n",
    "import nltk\n",
    "from nltk.stem import PorterStemmer\n",
    "pc=PorterStemmer()"
   ]
  },
  {
   "cell_type": "code",
   "execution_count": 44,
   "id": "f66af32f",
   "metadata": {},
   "outputs": [],
   "source": [
    "def transfrom_text(x):\n",
    "    y = nltk.word_tokenize(x.lower())\n",
    "    z = []\n",
    "    for i in y:\n",
    "        if i.isalnum():\n",
    "            z.append(i)\n",
    "    y = z[:]\n",
    "    z.clear()\n",
    "    for i in y:\n",
    "        if i not in stopwords.words('english'):\n",
    "            z.append(i)\n",
    "    y=z[:]\n",
    "    z.clear()\n",
    "    for i in y:\n",
    "        z.append(pc.stem(i))\n",
    "    return ' '.join(z)"
   ]
  },
  {
   "cell_type": "code",
   "execution_count": 45,
   "id": "4527dee3",
   "metadata": {},
   "outputs": [
    {
     "data": {
      "text/plain": [
       "'sale'"
      ]
     },
     "execution_count": 45,
     "metadata": {},
     "output_type": "execute_result"
    }
   ],
   "source": [
    "transfrom_text(\"sale\")"
   ]
  },
  {
   "cell_type": "code",
   "execution_count": 46,
   "id": "0fefc44a",
   "metadata": {},
   "outputs": [],
   "source": [
    "df['transfrom_skill']=df.skills.map(transfrom_text)"
   ]
  },
  {
   "cell_type": "code",
   "execution_count": 47,
   "id": "6041e6f1",
   "metadata": {},
   "outputs": [
    {
     "data": {
      "text/html": [
       "<div>\n",
       "<style scoped>\n",
       "    .dataframe tbody tr th:only-of-type {\n",
       "        vertical-align: middle;\n",
       "    }\n",
       "\n",
       "    .dataframe tbody tr th {\n",
       "        vertical-align: top;\n",
       "    }\n",
       "\n",
       "    .dataframe thead th {\n",
       "        text-align: right;\n",
       "    }\n",
       "</style>\n",
       "<table border=\"1\" class=\"dataframe\">\n",
       "  <thead>\n",
       "    <tr style=\"text-align: right;\">\n",
       "      <th></th>\n",
       "      <th>skills</th>\n",
       "      <th>Number_of_Employees</th>\n",
       "      <th>company_class</th>\n",
       "      <th>transfrom_skill</th>\n",
       "    </tr>\n",
       "  </thead>\n",
       "  <tbody>\n",
       "    <tr>\n",
       "      <th>0</th>\n",
       "      <td>Business Development\\nRevenue Management\\nSales</td>\n",
       "      <td>1000</td>\n",
       "      <td>Class1</td>\n",
       "      <td>busi develop revenu manag sale</td>\n",
       "    </tr>\n",
       "    <tr>\n",
       "      <th>1</th>\n",
       "      <td>Business Development\\nChannel Sales\\nKey Accou...</td>\n",
       "      <td>1000</td>\n",
       "      <td>Class1</td>\n",
       "      <td>busi develop channel sale key account manag mi...</td>\n",
       "    </tr>\n",
       "    <tr>\n",
       "      <th>3</th>\n",
       "      <td>Corporate Sales\\nKey Account Management\\nProfi...</td>\n",
       "      <td>1000</td>\n",
       "      <td>Class1</td>\n",
       "      <td>corpor sale key account manag profit loss mana...</td>\n",
       "    </tr>\n",
       "    <tr>\n",
       "      <th>4</th>\n",
       "      <td>Business Development\\nCorporate Sales\\nKey Acc...</td>\n",
       "      <td>1000</td>\n",
       "      <td>Class1</td>\n",
       "      <td>busi develop corpor sale key account manag mic...</td>\n",
       "    </tr>\n",
       "    <tr>\n",
       "      <th>6</th>\n",
       "      <td>AWS\\nAnsible\\nAzure\\nCI - CD\\nDevOps\\nDocker\\n...</td>\n",
       "      <td>1000</td>\n",
       "      <td>Class1</td>\n",
       "      <td>aw ansibl azur ci cd devop docker googl cloud ...</td>\n",
       "    </tr>\n",
       "  </tbody>\n",
       "</table>\n",
       "</div>"
      ],
      "text/plain": [
       "                                              skills  Number_of_Employees  \\\n",
       "0    Business Development\\nRevenue Management\\nSales                 1000   \n",
       "1  Business Development\\nChannel Sales\\nKey Accou...                 1000   \n",
       "3  Corporate Sales\\nKey Account Management\\nProfi...                 1000   \n",
       "4  Business Development\\nCorporate Sales\\nKey Acc...                 1000   \n",
       "6  AWS\\nAnsible\\nAzure\\nCI - CD\\nDevOps\\nDocker\\n...                 1000   \n",
       "\n",
       "  company_class                                    transfrom_skill  \n",
       "0        Class1                     busi develop revenu manag sale  \n",
       "1        Class1  busi develop channel sale key account manag mi...  \n",
       "3        Class1  corpor sale key account manag profit loss mana...  \n",
       "4        Class1  busi develop corpor sale key account manag mic...  \n",
       "6        Class1  aw ansibl azur ci cd devop docker googl cloud ...  "
      ]
     },
     "execution_count": 47,
     "metadata": {},
     "output_type": "execute_result"
    }
   ],
   "source": [
    "df.head(5)"
   ]
  },
  {
   "cell_type": "code",
   "execution_count": 48,
   "id": "fa672857",
   "metadata": {},
   "outputs": [
    {
     "data": {
      "text/plain": [
       "Class1    109\n",
       "Class2     59\n",
       "Class4     59\n",
       "Class3     58\n",
       "Name: company_class, dtype: int64"
      ]
     },
     "execution_count": 48,
     "metadata": {},
     "output_type": "execute_result"
    }
   ],
   "source": [
    "df[\"company_class\"].value_counts()"
   ]
  },
  {
   "cell_type": "code",
   "execution_count": 49,
   "id": "b9ea4c7b",
   "metadata": {},
   "outputs": [
    {
     "data": {
      "text/plain": [
       "1000    109\n",
       "200      59\n",
       "500      58\n",
       "50       50\n",
       "10        9\n",
       "Name: Number_of_Employees, dtype: int64"
      ]
     },
     "execution_count": 49,
     "metadata": {},
     "output_type": "execute_result"
    }
   ],
   "source": [
    "df[\"Number_of_Employees\"].value_counts()"
   ]
  },
  {
   "cell_type": "code",
   "execution_count": null,
   "id": "cc4cb7e2",
   "metadata": {},
   "outputs": [],
   "source": []
  },
  {
   "cell_type": "code",
   "execution_count": 50,
   "id": "cebccf75",
   "metadata": {},
   "outputs": [],
   "source": [
    "from sklearn.linear_model import LogisticRegression\n",
    "from sklearn.model_selection import train_test_split\n",
    "from sklearn.feature_extraction.text import CountVectorizer\n",
    "from sklearn.preprocessing import LabelEncoder\n",
    "from sklearn import svm\n",
    "from sklearn.ensemble import RandomForestClassifier\n",
    "from sklearn.tree import DecisionTreeClassifier, plot_tree\n",
    "from sklearn import metrics"
   ]
  },
  {
   "cell_type": "code",
   "execution_count": 51,
   "id": "64c3ed77",
   "metadata": {},
   "outputs": [],
   "source": [
    "df[\"class\"]=df[\"company_class\"].replace({\"Class1\":1,\"Class2\":2,\"Class3\":3,\"Class4\":4})"
   ]
  },
  {
   "cell_type": "code",
   "execution_count": 52,
   "id": "7e2820ff",
   "metadata": {},
   "outputs": [],
   "source": [
    "cv_3=CountVectorizer()"
   ]
  },
  {
   "cell_type": "code",
   "execution_count": 53,
   "id": "ab8f2087",
   "metadata": {},
   "outputs": [],
   "source": [
    "x=cv_3.fit_transform(df.transfrom_skill)\n",
    "y=df[\"class\"]"
   ]
  },
  {
   "cell_type": "code",
   "execution_count": 54,
   "id": "3a77e1d9",
   "metadata": {},
   "outputs": [],
   "source": [
    "x_train, x_test, y_train, y_test = train_test_split(x,y,test_size=0.1,random_state=11)"
   ]
  },
  {
   "cell_type": "code",
   "execution_count": 55,
   "id": "8f4b6ae7",
   "metadata": {},
   "outputs": [],
   "source": [
    "models = {\n",
    "    \"Logistic Regression\": LogisticRegression(multi_class='multinomial',random_state=11),\n",
    "    \"Random Forest\": RandomForestClassifier(random_state=11),\n",
    "    \"Descision Tree\": DecisionTreeClassifier(criterion='gini', random_state=11)\n",
    "}"
   ]
  },
  {
   "cell_type": "code",
   "execution_count": 56,
   "id": "3868e3d3",
   "metadata": {},
   "outputs": [
    {
     "name": "stdout",
     "output_type": "stream",
     "text": [
      "Logistic Regression : 34.48%\n",
      "\n",
      "              precision    recall  f1-score   support\n",
      "\n",
      "           1       0.50      0.69      0.58        13\n",
      "           2       0.33      0.20      0.25         5\n",
      "           3       0.00      0.00      0.00         7\n",
      "           4       0.00      0.00      0.00         4\n",
      "\n",
      "    accuracy                           0.34        29\n",
      "   macro avg       0.21      0.22      0.21        29\n",
      "weighted avg       0.28      0.34      0.30        29\n",
      "\n",
      "\n"
     ]
    },
    {
     "data": {
      "image/png": "[encoded data removed]",
      "text/plain": [
       "<Figure size 640x480 with 2 Axes>"
      ]
     },
     "metadata": {},
     "output_type": "display_data"
    },
    {
     "name": "stdout",
     "output_type": "stream",
     "text": [
      "Random Forest : 37.93%\n",
      "\n",
      "              precision    recall  f1-score   support\n",
      "\n",
      "           1       0.56      0.69      0.62        13\n",
      "           2       0.25      0.20      0.22         5\n",
      "           3       0.00      0.00      0.00         7\n",
      "           4       0.17      0.25      0.20         4\n",
      "\n",
      "    accuracy                           0.38        29\n",
      "   macro avg       0.24      0.29      0.26        29\n",
      "weighted avg       0.32      0.38      0.34        29\n",
      "\n",
      "\n"
     ]
    },
    {
     "data": {
      "image/png": "[encoded data removed]",
      "text/plain": [
       "<Figure size 640x480 with 2 Axes>"
      ]
     },
     "metadata": {},
     "output_type": "display_data"
    },
    {
     "name": "stdout",
     "output_type": "stream",
     "text": [
      "Descision Tree : 34.48%\n",
      "\n",
      "              precision    recall  f1-score   support\n",
      "\n",
      "           1       0.58      0.54      0.56        13\n",
      "           2       0.33      0.20      0.25         5\n",
      "           3       0.20      0.14      0.17         7\n",
      "           4       0.11      0.25      0.15         4\n",
      "\n",
      "    accuracy                           0.34        29\n",
      "   macro avg       0.31      0.28      0.28        29\n",
      "weighted avg       0.38      0.34      0.36        29\n",
      "\n",
      "\n"
     ]
    },
    {
     "data": {
      "image/png": "[encoded data removed]",
      "text/plain": [
       "<Figure size 640x480 with 2 Axes>"
      ]
     },
     "metadata": {},
     "output_type": "display_data"
    }
   ],
   "source": [
    "for name, model in models.items():\n",
    "    model.fit(x_train, y_train)\n",
    "    y_pred = model.predict(x_test)\n",
    "    print(name + \" : {:.2f}%\".format(metrics.accuracy_score(y_test, y_pred)*100))\n",
    "    print()\n",
    "    print(metrics.classification_report(y_test, y_pred))\n",
    "    print()\n",
    "    sns.heatmap(metrics.confusion_matrix(y_test, y_pred), annot=True)\n",
    "    plt.show()"
   ]
  },
  {
   "cell_type": "code",
   "execution_count": 68,
   "id": "a4eee7ea",
   "metadata": {},
   "outputs": [
    {
     "data": {
      "text/html": [
       "<style>#sk-container-id-5 {color: black;background-color: white;}#sk-container-id-5 pre{padding: 0;}#sk-container-id-5 div.sk-toggleable {background-color: white;}#sk-container-id-5 label.sk-toggleable__label {cursor: pointer;display: block;width: 100%;margin-bottom: 0;padding: 0.3em;box-sizing: border-box;text-align: center;}#sk-container-id-5 label.sk-toggleable__label-arrow:before {content: \"▸\";float: left;margin-right: 0.25em;color: #696969;}#sk-container-id-5 label.sk-toggleable__label-arrow:hover:before {color: black;}#sk-container-id-5 div.sk-estimator:hover label.sk-toggleable__label-arrow:before {color: black;}#sk-container-id-5 div.sk-toggleable__content {max-height: 0;max-width: 0;overflow: hidden;text-align: left;background-color: #f0f8ff;}#sk-container-id-5 div.sk-toggleable__content pre {margin: 0.2em;color: black;border-radius: 0.25em;background-color: #f0f8ff;}#sk-container-id-5 input.sk-toggleable__control:checked~div.sk-toggleable__content {max-height: 200px;max-width: 100%;overflow: auto;}#sk-container-id-5 input.sk-toggleable__control:checked~label.sk-toggleable__label-arrow:before {content: \"▾\";}#sk-container-id-5 div.sk-estimator input.sk-toggleable__control:checked~label.sk-toggleable__label {background-color: #d4ebff;}#sk-container-id-5 div.sk-label input.sk-toggleable__control:checked~label.sk-toggleable__label {background-color: #d4ebff;}#sk-container-id-5 input.sk-hidden--visually {border: 0;clip: rect(1px 1px 1px 1px);clip: rect(1px, 1px, 1px, 1px);height: 1px;margin: -1px;overflow: hidden;padding: 0;position: absolute;width: 1px;}#sk-container-id-5 div.sk-estimator {font-family: monospace;background-color: #f0f8ff;border: 1px dotted black;border-radius: 0.25em;box-sizing: border-box;margin-bottom: 0.5em;}#sk-container-id-5 div.sk-estimator:hover {background-color: #d4ebff;}#sk-container-id-5 div.sk-parallel-item::after {content: \"\";width: 100%;border-bottom: 1px solid gray;flex-grow: 1;}#sk-container-id-5 div.sk-label:hover label.sk-toggleable__label {background-color: #d4ebff;}#sk-container-id-5 div.sk-serial::before {content: \"\";position: absolute;border-left: 1px solid gray;box-sizing: border-box;top: 0;bottom: 0;left: 50%;z-index: 0;}#sk-container-id-5 div.sk-serial {display: flex;flex-direction: column;align-items: center;background-color: white;padding-right: 0.2em;padding-left: 0.2em;position: relative;}#sk-container-id-5 div.sk-item {position: relative;z-index: 1;}#sk-container-id-5 div.sk-parallel {display: flex;align-items: stretch;justify-content: center;background-color: white;position: relative;}#sk-container-id-5 div.sk-item::before, #sk-container-id-5 div.sk-parallel-item::before {content: \"\";position: absolute;border-left: 1px solid gray;box-sizing: border-box;top: 0;bottom: 0;left: 50%;z-index: -1;}#sk-container-id-5 div.sk-parallel-item {display: flex;flex-direction: column;z-index: 1;position: relative;background-color: white;}#sk-container-id-5 div.sk-parallel-item:first-child::after {align-self: flex-end;width: 50%;}#sk-container-id-5 div.sk-parallel-item:last-child::after {align-self: flex-start;width: 50%;}#sk-container-id-5 div.sk-parallel-item:only-child::after {width: 0;}#sk-container-id-5 div.sk-dashed-wrapped {border: 1px dashed gray;margin: 0 0.4em 0.5em 0.4em;box-sizing: border-box;padding-bottom: 0.4em;background-color: white;}#sk-container-id-5 div.sk-label label {font-family: monospace;font-weight: bold;display: inline-block;line-height: 1.2em;}#sk-container-id-5 div.sk-label-container {text-align: center;}#sk-container-id-5 div.sk-container {/* jupyter's `normalize.less` sets `[hidden] { display: none; }` but bootstrap.min.css set `[hidden] { display: none !important; }` so we also need the `!important` here to be able to override the default hidden behavior on the sphinx rendered scikit-learn.org. See: https://github.com/scikit-learn/scikit-learn/issues/21755 */display: inline-block !important;position: relative;}#sk-container-id-5 div.sk-text-repr-fallback {display: none;}</style><div id=\"sk-container-id-5\" class=\"sk-top-container\"><div class=\"sk-text-repr-fallback\"><pre>RandomForestClassifier(n_estimators=60)</pre><b>In a Jupyter environment, please rerun this cell to show the HTML representation or trust the notebook. <br />On GitHub, the HTML representation is unable to render, please try loading this page with nbviewer.org.</b></div><div class=\"sk-container\" hidden><div class=\"sk-item\"><div class=\"sk-estimator sk-toggleable\"><input class=\"sk-toggleable__control sk-hidden--visually\" id=\"sk-estimator-id-5\" type=\"checkbox\" checked><label for=\"sk-estimator-id-5\" class=\"sk-toggleable__label sk-toggleable__label-arrow\">RandomForestClassifier</label><div class=\"sk-toggleable__content\"><pre>RandomForestClassifier(n_estimators=60)</pre></div></div></div></div></div>"
      ],
      "text/plain": [
       "RandomForestClassifier(n_estimators=60)"
      ]
     },
     "execution_count": 68,
     "metadata": {},
     "output_type": "execute_result"
    }
   ],
   "source": [
    "model_3=RandomForestClassifier(n_estimators=0)\n",
    "model_3.fit(x_train,y_train)"
   ]
  },
  {
   "cell_type": "code",
   "execution_count": 69,
   "id": "69fceb19",
   "metadata": {},
   "outputs": [
    {
     "name": "stdout",
     "output_type": "stream",
     "text": [
      "0.4482758620689655\n"
     ]
    }
   ],
   "source": [
    "y_pred=model_3.predict(x_test)\n",
    "print(metrics.accuracy_score(y_test,y_pred))"
   ]
  },
  {
   "cell_type": "code",
   "execution_count": 59,
   "id": "b3a9c275",
   "metadata": {},
   "outputs": [
    {
     "data": {
      "text/plain": [
       "array([2, 1, 1, 4, 1, 4, 3, 1, 2, 4, 3, 4, 1, 4, 1, 1, 2, 1, 1, 1, 1, 4,\n",
       "       1, 2, 4, 1, 1, 1, 1], dtype=int64)"
      ]
     },
     "execution_count": 59,
     "metadata": {},
     "output_type": "execute_result"
    }
   ],
   "source": [
    "y_pred"
   ]
  },
  {
   "cell_type": "code",
   "execution_count": 60,
   "id": "ee3a67a7",
   "metadata": {},
   "outputs": [],
   "source": [
    "def pred_3(jk):\n",
    "    pred = model_3.predict(cv_3.transform([transfrom_text(jk)]))\n",
    "    if pred == 1:\n",
    "        return \"Class 1\"\n",
    "    elif pred==2:\n",
    "        return \"Class 2\"\n",
    "    elif pred==3:\n",
    "        return \"Class 3\"\n",
    "    else: \n",
    "        return \"Class 4\""
   ]
  },
  {
   "cell_type": "code",
   "execution_count": 61,
   "id": "d5c2eda7",
   "metadata": {},
   "outputs": [
    {
     "name": "stdout",
     "output_type": "stream",
     "text": [
      "Class 4\n"
     ]
    }
   ],
   "source": [
    "print(pred_3('Java,MariaDB,Spring Boot,J2EE,MySQL'))"
   ]
  },
  {
   "cell_type": "code",
   "execution_count": 62,
   "id": "bf7b57e9",
   "metadata": {},
   "outputs": [],
   "source": [
    "import pickle"
   ]
  },
  {
   "cell_type": "code",
   "execution_count": 63,
   "id": "93118a00",
   "metadata": {},
   "outputs": [],
   "source": [
    "pickle.dump(model_3,open('model_3.pkl','wb'))\n",
    "pickle.dump(cv_3,open('vectorizer_3.pkl','wb'))"
   ]
  },
  {
   "cell_type": "code",
   "execution_count": null,
   "id": "864a83a6",
   "metadata": {},
   "outputs": [],
   "source": []
  }
 ],
 "metadata": {
  "kernelspec": {
   "display_name": "Python 3 (ipykernel)",
   "language": "python",
   "name": "python3"
  },
  "language_info": {
   "codemirror_mode": {
    "name": "ipython",
    "version": 3
   },
   "file_extension": ".py",
   "mimetype": "text/x-python",
   "name": "python",
   "nbconvert_exporter": "python",
   "pygments_lexer": "ipython3",
   "version": "3.10.9"
  }
 },
 "nbformat": 4,
 "nbformat_minor": 5
}

{
 "cells": [
  {
   "cell_type": "code",
   "execution_count": 6,
   "id": "df35ed2e",
   "metadata": {},
   "outputs": [],
   "source": [
    "import pandas as pd\n",
    "import numpy as np\n",
    "import seaborn as sns\n",
    "import matplotlib.pyplot as plt"
   ]
  },
  {
   "cell_type": "code",
   "execution_count": 7,
   "id": "5c2bcbb8",
   "metadata": {},
   "outputs": [
    {
     "data": {
      "text/html": [
       "<div>\n",
       "<style scoped>\n",
       "    .dataframe tbody tr th:only-of-type {\n",
       "        vertical-align: middle;\n",
       "    }\n",
       "\n",
       "    .dataframe tbody tr th {\n",
       "        vertical-align: top;\n",
       "    }\n",
       "\n",
       "    .dataframe thead th {\n",
       "        text-align: right;\n",
       "    }\n",
       "</style>\n",
       "<table border=\"1\" class=\"dataframe\">\n",
       "  <thead>\n",
       "    <tr style=\"text-align: right;\">\n",
       "      <th></th>\n",
       "      <th>designation</th>\n",
       "      <th>company_name</th>\n",
       "      <th>Number_of_Employees</th>\n",
       "      <th>job_description</th>\n",
       "      <th>skills</th>\n",
       "      <th>Years_of_Experience</th>\n",
       "      <th>Category</th>\n",
       "      <th>company_class</th>\n",
       "      <th>Department</th>\n",
       "    </tr>\n",
       "  </thead>\n",
       "  <tbody>\n",
       "    <tr>\n",
       "      <th>0</th>\n",
       "      <td>Business Development Associate (Drive)</td>\n",
       "      <td>MakeMyTrip</td>\n",
       "      <td>1000</td>\n",
       "      <td>Function: Sales and Business → Sales / Busines...</td>\n",
       "      <td>Business Development\\nRevenue Management\\nSales</td>\n",
       "      <td>4</td>\n",
       "      <td>Junior</td>\n",
       "      <td>Class1</td>\n",
       "      <td>Sales and Business</td>\n",
       "    </tr>\n",
       "    <tr>\n",
       "      <th>1</th>\n",
       "      <td>Business Manager (Drive)</td>\n",
       "      <td>MakeMyTrip</td>\n",
       "      <td>1000</td>\n",
       "      <td>Function: Sales and Business → Sales / Busines...</td>\n",
       "      <td>Business Development\\nChannel Sales\\nKey Accou...</td>\n",
       "      <td>6</td>\n",
       "      <td>Senior</td>\n",
       "      <td>Class1</td>\n",
       "      <td>Sales and Business</td>\n",
       "    </tr>\n",
       "    <tr>\n",
       "      <th>3</th>\n",
       "      <td>Key Account Manager (Drive)</td>\n",
       "      <td>MakeMyTrip</td>\n",
       "      <td>1000</td>\n",
       "      <td>Function: Sales and Business → Sales / Busines...</td>\n",
       "      <td>Corporate Sales\\nKey Account Management\\nProfi...</td>\n",
       "      <td>7</td>\n",
       "      <td>Senior</td>\n",
       "      <td>Class1</td>\n",
       "      <td>Sales and Business</td>\n",
       "    </tr>\n",
       "    <tr>\n",
       "      <th>4</th>\n",
       "      <td>Senior Business Development Manager (Drive)</td>\n",
       "      <td>MakeMyTrip</td>\n",
       "      <td>1000</td>\n",
       "      <td>Function: Sales and Business → Sales / Busines...</td>\n",
       "      <td>Business Development\\nCorporate Sales\\nKey Acc...</td>\n",
       "      <td>5</td>\n",
       "      <td>Senior</td>\n",
       "      <td>Class1</td>\n",
       "      <td>Sales and Business</td>\n",
       "    </tr>\n",
       "    <tr>\n",
       "      <th>5</th>\n",
       "      <td>Core Java Developer (Drive)</td>\n",
       "      <td>Publicis Sapient</td>\n",
       "      <td>1000</td>\n",
       "      <td>Function: Software Engineering → Backend Devel...</td>\n",
       "      <td>AWS\\nAzure\\nGoogle Cloud\\nJava\\nKafka\\nKibana\\...</td>\n",
       "      <td>6</td>\n",
       "      <td>Senior</td>\n",
       "      <td>Class1</td>\n",
       "      <td>Software Engineering</td>\n",
       "    </tr>\n",
       "  </tbody>\n",
       "</table>\n",
       "</div>"
      ],
      "text/plain": [
       "                                   designation      company_name  \\\n",
       "0       Business Development Associate (Drive)        MakeMyTrip   \n",
       "1                     Business Manager (Drive)        MakeMyTrip   \n",
       "3                  Key Account Manager (Drive)        MakeMyTrip   \n",
       "4  Senior Business Development Manager (Drive)        MakeMyTrip   \n",
       "5                  Core Java Developer (Drive)  Publicis Sapient   \n",
       "\n",
       "   Number_of_Employees                                    job_description  \\\n",
       "0                 1000  Function: Sales and Business → Sales / Busines...   \n",
       "1                 1000  Function: Sales and Business → Sales / Busines...   \n",
       "3                 1000  Function: Sales and Business → Sales / Busines...   \n",
       "4                 1000  Function: Sales and Business → Sales / Busines...   \n",
       "5                 1000  Function: Software Engineering → Backend Devel...   \n",
       "\n",
       "                                              skills  Years_of_Experience  \\\n",
       "0    Business Development\\nRevenue Management\\nSales                    4   \n",
       "1  Business Development\\nChannel Sales\\nKey Accou...                    6   \n",
       "3  Corporate Sales\\nKey Account Management\\nProfi...                    7   \n",
       "4  Business Development\\nCorporate Sales\\nKey Acc...                    5   \n",
       "5  AWS\\nAzure\\nGoogle Cloud\\nJava\\nKafka\\nKibana\\...                    6   \n",
       "\n",
       "  Category company_class            Department  \n",
       "0   Junior        Class1    Sales and Business  \n",
       "1   Senior        Class1    Sales and Business  \n",
       "3   Senior        Class1    Sales and Business  \n",
       "4   Senior        Class1    Sales and Business  \n",
       "5   Senior        Class1  Software Engineering  "
      ]
     },
     "execution_count": 7,
     "metadata": {},
     "output_type": "execute_result"
    }
   ],
   "source": [
    "df=pd.read_csv(\"C:\\\\Users\\\\piyus.LAPTOP-7O04196B\\\\Downloads\\\\instahyre\\\\dataset\\\\final_table.csv\")\n",
    "df.drop(\"Unnamed: 0\",axis=1,inplace=True)\n",
    "df.drop_duplicates(inplace=True)\n",
    "df.head()"
   ]
  },
  {
   "cell_type": "code",
   "execution_count": 3,
   "id": "79958cb6",
   "metadata": {},
   "outputs": [],
   "source": [
    "df=df[[\"skills\",\"Department\"]]"
   ]
  },
  {
   "cell_type": "code",
   "execution_count": 4,
   "id": "96a212f5",
   "metadata": {},
   "outputs": [
    {
     "data": {
      "text/html": [
       "<div>\n",
       "<style scoped>\n",
       "    .dataframe tbody tr th:only-of-type {\n",
       "        vertical-align: middle;\n",
       "    }\n",
       "\n",
       "    .dataframe tbody tr th {\n",
       "        vertical-align: top;\n",
       "    }\n",
       "\n",
       "    .dataframe thead th {\n",
       "        text-align: right;\n",
       "    }\n",
       "</style>\n",
       "<table border=\"1\" class=\"dataframe\">\n",
       "  <thead>\n",
       "    <tr style=\"text-align: right;\">\n",
       "      <th></th>\n",
       "      <th>skills</th>\n",
       "      <th>Department</th>\n",
       "    </tr>\n",
       "  </thead>\n",
       "  <tbody>\n",
       "    <tr>\n",
       "      <th>0</th>\n",
       "      <td>Business Development\\nRevenue Management\\nSales</td>\n",
       "      <td>Sales and Business</td>\n",
       "    </tr>\n",
       "    <tr>\n",
       "      <th>1</th>\n",
       "      <td>Business Development\\nChannel Sales\\nKey Accou...</td>\n",
       "      <td>Sales and Business</td>\n",
       "    </tr>\n",
       "    <tr>\n",
       "      <th>3</th>\n",
       "      <td>Corporate Sales\\nKey Account Management\\nProfi...</td>\n",
       "      <td>Sales and Business</td>\n",
       "    </tr>\n",
       "    <tr>\n",
       "      <th>4</th>\n",
       "      <td>Business Development\\nCorporate Sales\\nKey Acc...</td>\n",
       "      <td>Sales and Business</td>\n",
       "    </tr>\n",
       "    <tr>\n",
       "      <th>5</th>\n",
       "      <td>AWS\\nAzure\\nGoogle Cloud\\nJava\\nKafka\\nKibana\\...</td>\n",
       "      <td>Software Engineering</td>\n",
       "    </tr>\n",
       "  </tbody>\n",
       "</table>\n",
       "</div>"
      ],
      "text/plain": [
       "                                              skills            Department\n",
       "0    Business Development\\nRevenue Management\\nSales    Sales and Business\n",
       "1  Business Development\\nChannel Sales\\nKey Accou...    Sales and Business\n",
       "3  Corporate Sales\\nKey Account Management\\nProfi...    Sales and Business\n",
       "4  Business Development\\nCorporate Sales\\nKey Acc...    Sales and Business\n",
       "5  AWS\\nAzure\\nGoogle Cloud\\nJava\\nKafka\\nKibana\\...  Software Engineering"
      ]
     },
     "execution_count": 4,
     "metadata": {},
     "output_type": "execute_result"
    }
   ],
   "source": [
    "df.head()"
   ]
  },
  {
   "cell_type": "code",
   "execution_count": 5,
   "id": "f5e9ffbe",
   "metadata": {},
   "outputs": [
    {
     "data": {
      "text/plain": [
       "'\\nfrom nltk.stem import PorterStemmer\\npc=PorterStemmer()'"
      ]
     },
     "execution_count": 5,
     "metadata": {},
     "output_type": "execute_result"
    }
   ],
   "source": [
    "\"\"\"\n",
    "from nltk.stem import PorterStemmer\n",
    "pc=PorterStemmer()\"\"\""
   ]
  },
  {
   "cell_type": "code",
   "execution_count": 8,
   "id": "0439d395",
   "metadata": {},
   "outputs": [
    {
     "data": {
      "text/plain": [
       "Class1    180\n",
       "Class2     98\n",
       "Class4     98\n",
       "Class3     79\n",
       "Name: company_class, dtype: int64"
      ]
     },
     "execution_count": 8,
     "metadata": {},
     "output_type": "execute_result"
    }
   ],
   "source": [
    "df[\"company_class\"].value_counts()"
   ]
  },
  {
   "cell_type": "code",
   "execution_count": 6,
   "id": "f34686bc",
   "metadata": {},
   "outputs": [],
   "source": [
    "import nltk\n",
    "from nltk.corpus import stopwords\n",
    "stopwords.words('english')\n",
    "from nltk.stem import PorterStemmer\n",
    "pc=PorterStemmer()"
   ]
  },
  {
   "cell_type": "code",
   "execution_count": 7,
   "id": "f244a205",
   "metadata": {},
   "outputs": [],
   "source": [
    "def transfrom_text(x):\n",
    "    y = nltk.word_tokenize(x.lower())\n",
    "    z = []\n",
    "    for i in y:\n",
    "        if i.isalnum():\n",
    "            z.append(i)\n",
    "    y = z[:]\n",
    "    z.clear()\n",
    "    for i in y:\n",
    "        if i not in stopwords.words('english'):\n",
    "            z.append(i)\n",
    "    y=z[:]\n",
    "    z.clear()\n",
    "    for i in y:\n",
    "        z.append(pc.stem(i))\n",
    "    return ' '.join(z)"
   ]
  },
  {
   "cell_type": "code",
   "execution_count": 8,
   "id": "4d21e7c5",
   "metadata": {},
   "outputs": [],
   "source": [
    "df['transfrom_skill']=df.skills.map(transfrom_text)"
   ]
  },
  {
   "cell_type": "code",
   "execution_count": 9,
   "id": "80bee4b5",
   "metadata": {},
   "outputs": [],
   "source": [
    "df['transfrom_Department']=df.Department.map(transfrom_text)"
   ]
  },
  {
   "cell_type": "code",
   "execution_count": 10,
   "id": "f0d76c88",
   "metadata": {},
   "outputs": [
    {
     "data": {
      "text/html": [
       "<div>\n",
       "<style scoped>\n",
       "    .dataframe tbody tr th:only-of-type {\n",
       "        vertical-align: middle;\n",
       "    }\n",
       "\n",
       "    .dataframe tbody tr th {\n",
       "        vertical-align: top;\n",
       "    }\n",
       "\n",
       "    .dataframe thead th {\n",
       "        text-align: right;\n",
       "    }\n",
       "</style>\n",
       "<table border=\"1\" class=\"dataframe\">\n",
       "  <thead>\n",
       "    <tr style=\"text-align: right;\">\n",
       "      <th></th>\n",
       "      <th>skills</th>\n",
       "      <th>Department</th>\n",
       "      <th>transfrom_skill</th>\n",
       "      <th>transfrom_Department</th>\n",
       "    </tr>\n",
       "  </thead>\n",
       "  <tbody>\n",
       "    <tr>\n",
       "      <th>0</th>\n",
       "      <td>Business Development\\nRevenue Management\\nSales</td>\n",
       "      <td>Sales and Business</td>\n",
       "      <td>busi develop revenu manag sale</td>\n",
       "      <td>sale busi</td>\n",
       "    </tr>\n",
       "    <tr>\n",
       "      <th>1</th>\n",
       "      <td>Business Development\\nChannel Sales\\nKey Accou...</td>\n",
       "      <td>Sales and Business</td>\n",
       "      <td>busi develop channel sale key account manag mi...</td>\n",
       "      <td>sale busi</td>\n",
       "    </tr>\n",
       "    <tr>\n",
       "      <th>3</th>\n",
       "      <td>Corporate Sales\\nKey Account Management\\nProfi...</td>\n",
       "      <td>Sales and Business</td>\n",
       "      <td>corpor sale key account manag profit loss mana...</td>\n",
       "      <td>sale busi</td>\n",
       "    </tr>\n",
       "    <tr>\n",
       "      <th>4</th>\n",
       "      <td>Business Development\\nCorporate Sales\\nKey Acc...</td>\n",
       "      <td>Sales and Business</td>\n",
       "      <td>busi develop corpor sale key account manag mic...</td>\n",
       "      <td>sale busi</td>\n",
       "    </tr>\n",
       "    <tr>\n",
       "      <th>5</th>\n",
       "      <td>AWS\\nAzure\\nGoogle Cloud\\nJava\\nKafka\\nKibana\\...</td>\n",
       "      <td>Software Engineering</td>\n",
       "      <td>aw azur googl cloud java kafka kibana monitor ...</td>\n",
       "      <td>softwar engin</td>\n",
       "    </tr>\n",
       "  </tbody>\n",
       "</table>\n",
       "</div>"
      ],
      "text/plain": [
       "                                              skills            Department  \\\n",
       "0    Business Development\\nRevenue Management\\nSales    Sales and Business   \n",
       "1  Business Development\\nChannel Sales\\nKey Accou...    Sales and Business   \n",
       "3  Corporate Sales\\nKey Account Management\\nProfi...    Sales and Business   \n",
       "4  Business Development\\nCorporate Sales\\nKey Acc...    Sales and Business   \n",
       "5  AWS\\nAzure\\nGoogle Cloud\\nJava\\nKafka\\nKibana\\...  Software Engineering   \n",
       "\n",
       "                                     transfrom_skill transfrom_Department  \n",
       "0                     busi develop revenu manag sale            sale busi  \n",
       "1  busi develop channel sale key account manag mi...            sale busi  \n",
       "3  corpor sale key account manag profit loss mana...            sale busi  \n",
       "4  busi develop corpor sale key account manag mic...            sale busi  \n",
       "5  aw azur googl cloud java kafka kibana monitor ...        softwar engin  "
      ]
     },
     "execution_count": 10,
     "metadata": {},
     "output_type": "execute_result"
    }
   ],
   "source": [
    "df.head()"
   ]
  },
  {
   "cell_type": "code",
   "execution_count": 11,
   "id": "9b16a3d3",
   "metadata": {},
   "outputs": [
    {
     "data": {
      "text/plain": [
       "'df[\"Department\"] = df[\"Department\"].replace({\"Software Engineering\":1,\"Sales and Business\":2,\"IT Operations and Support\":3,\"Marketing\":4,\"Technical Management\":5,\"Data Science and Analysis\":6,\"Operations\":7,\"Design and Creative\":8,\"Human Resources\":9})'"
      ]
     },
     "execution_count": 11,
     "metadata": {},
     "output_type": "execute_result"
    }
   ],
   "source": [
    "\"\"\"df[\"Department\"] = df[\"Department\"].replace({\"Software Engineering\":1,\"Sales and Business\":2,\"IT Operations and Support\":3,\"Marketing\":4,\"Technical Management\":5,\"Data Science and Analysis\":6,\"Operations\":7,\"Design and Creative\":8,\"Human Resources\":9})\"\"\""
   ]
  },
  {
   "cell_type": "code",
   "execution_count": 12,
   "id": "df8e9dfb",
   "metadata": {},
   "outputs": [
    {
     "data": {
      "text/plain": [
       "Software Engineering         250\n",
       "Sales and Business            64\n",
       "IT Operations and Support     58\n",
       "Marketing                     18\n",
       "Technical Management          17\n",
       "Data Science and Analysis     16\n",
       "Operations                    15\n",
       "Design and Creative            9\n",
       "Human Resources                8\n",
       "Name: Department, dtype: int64"
      ]
     },
     "execution_count": 12,
     "metadata": {},
     "output_type": "execute_result"
    }
   ],
   "source": [
    "df[\"Department\"].value_counts()"
   ]
  },
  {
   "cell_type": "code",
   "execution_count": 13,
   "id": "e9c67d81",
   "metadata": {},
   "outputs": [],
   "source": [
    "from sklearn.linear_model import LogisticRegression\n",
    "from sklearn.model_selection import train_test_split\n",
    "from sklearn.feature_extraction.text import CountVectorizer\n",
    "from sklearn.ensemble import RandomForestClassifier\n",
    "from sklearn.tree import DecisionTreeClassifier, plot_tree\n",
    "from sklearn import metrics"
   ]
  },
  {
   "cell_type": "code",
   "execution_count": 14,
   "id": "ca92da85",
   "metadata": {},
   "outputs": [],
   "source": [
    "lg=LogisticRegression(multi_class='multinomial')\n",
    "cv_2=CountVectorizer()\n",
    "dt= DecisionTreeClassifier(criterion = 'gini', random_state=15)\n",
    "rfcl= RandomForestClassifier(n_estimators=40, random_state=15)\n"
   ]
  },
  {
   "cell_type": "code",
   "execution_count": 15,
   "id": "2b61df5b",
   "metadata": {},
   "outputs": [],
   "source": [
    "df[\"Department\"] = df[\"Department\"].replace({\"Software Engineering\":1,\"Sales and Business\":2,\"IT Operations and Support\":3,\n",
    "                                             \"Marketing\":4, \"Technical Management\":5, \"Data Science and Analysis\":6, \"Operations\":7,\n",
    "                                             \"Design and Creative\":8,\"Human Resources\":9})\n"
   ]
  },
  {
   "cell_type": "code",
   "execution_count": 16,
   "id": "d782df01",
   "metadata": {},
   "outputs": [],
   "source": [
    "x=cv_2.fit_transform(df.transfrom_skill)\n",
    "y=df[\"Department\"]"
   ]
  },
  {
   "cell_type": "code",
   "execution_count": 17,
   "id": "22d29977",
   "metadata": {},
   "outputs": [],
   "source": [
    "models=[lg,dt,rfcl]\n",
    "x_train, x_test, y_train, y_test = train_test_split(x,y,test_size=0.30, random_state=40)"
   ]
  },
  {
   "cell_type": "code",
   "execution_count": 18,
   "id": "40548209",
   "metadata": {},
   "outputs": [
    {
     "name": "stdout",
     "output_type": "stream",
     "text": [
      "LogisticRegression(multi_class='multinomial') 0.8394160583941606\n",
      "DecisionTreeClassifier(random_state=15) 0.8248175182481752\n",
      "SVC() 0.7883211678832117\n",
      "RandomForestClassifier(n_estimators=40, random_state=15) 0.8832116788321168\n"
     ]
    }
   ],
   "source": [
    "for i in models:\n",
    "    i.fit(x_train, y_train)\n",
    "    print(i, metrics.accuracy_score(y_test, i.predict(x_test)))"
   ]
  },
  {
   "cell_type": "code",
   "execution_count": 19,
   "id": "53171dd5",
   "metadata": {},
   "outputs": [
    {
     "data": {
      "text/html": [
       "<style>#sk-container-id-1 {color: black;background-color: white;}#sk-container-id-1 pre{padding: 0;}#sk-container-id-1 div.sk-toggleable {background-color: white;}#sk-container-id-1 label.sk-toggleable__label {cursor: pointer;display: block;width: 100%;margin-bottom: 0;padding: 0.3em;box-sizing: border-box;text-align: center;}#sk-container-id-1 label.sk-toggleable__label-arrow:before {content: \"▸\";float: left;margin-right: 0.25em;color: #696969;}#sk-container-id-1 label.sk-toggleable__label-arrow:hover:before {color: black;}#sk-container-id-1 div.sk-estimator:hover label.sk-toggleable__label-arrow:before {color: black;}#sk-container-id-1 div.sk-toggleable__content {max-height: 0;max-width: 0;overflow: hidden;text-align: left;background-color: #f0f8ff;}#sk-container-id-1 div.sk-toggleable__content pre {margin: 0.2em;color: black;border-radius: 0.25em;background-color: #f0f8ff;}#sk-container-id-1 input.sk-toggleable__control:checked~div.sk-toggleable__content {max-height: 200px;max-width: 100%;overflow: auto;}#sk-container-id-1 input.sk-toggleable__control:checked~label.sk-toggleable__label-arrow:before {content: \"▾\";}#sk-container-id-1 div.sk-estimator input.sk-toggleable__control:checked~label.sk-toggleable__label {background-color: #d4ebff;}#sk-container-id-1 div.sk-label input.sk-toggleable__control:checked~label.sk-toggleable__label {background-color: #d4ebff;}#sk-container-id-1 input.sk-hidden--visually {border: 0;clip: rect(1px 1px 1px 1px);clip: rect(1px, 1px, 1px, 1px);height: 1px;margin: -1px;overflow: hidden;padding: 0;position: absolute;width: 1px;}#sk-container-id-1 div.sk-estimator {font-family: monospace;background-color: #f0f8ff;border: 1px dotted black;border-radius: 0.25em;box-sizing: border-box;margin-bottom: 0.5em;}#sk-container-id-1 div.sk-estimator:hover {background-color: #d4ebff;}#sk-container-id-1 div.sk-parallel-item::after {content: \"\";width: 100%;border-bottom: 1px solid gray;flex-grow: 1;}#sk-container-id-1 div.sk-label:hover label.sk-toggleable__label {background-color: #d4ebff;}#sk-container-id-1 div.sk-serial::before {content: \"\";position: absolute;border-left: 1px solid gray;box-sizing: border-box;top: 0;bottom: 0;left: 50%;z-index: 0;}#sk-container-id-1 div.sk-serial {display: flex;flex-direction: column;align-items: center;background-color: white;padding-right: 0.2em;padding-left: 0.2em;position: relative;}#sk-container-id-1 div.sk-item {position: relative;z-index: 1;}#sk-container-id-1 div.sk-parallel {display: flex;align-items: stretch;justify-content: center;background-color: white;position: relative;}#sk-container-id-1 div.sk-item::before, #sk-container-id-1 div.sk-parallel-item::before {content: \"\";position: absolute;border-left: 1px solid gray;box-sizing: border-box;top: 0;bottom: 0;left: 50%;z-index: -1;}#sk-container-id-1 div.sk-parallel-item {display: flex;flex-direction: column;z-index: 1;position: relative;background-color: white;}#sk-container-id-1 div.sk-parallel-item:first-child::after {align-self: flex-end;width: 50%;}#sk-container-id-1 div.sk-parallel-item:last-child::after {align-self: flex-start;width: 50%;}#sk-container-id-1 div.sk-parallel-item:only-child::after {width: 0;}#sk-container-id-1 div.sk-dashed-wrapped {border: 1px dashed gray;margin: 0 0.4em 0.5em 0.4em;box-sizing: border-box;padding-bottom: 0.4em;background-color: white;}#sk-container-id-1 div.sk-label label {font-family: monospace;font-weight: bold;display: inline-block;line-height: 1.2em;}#sk-container-id-1 div.sk-label-container {text-align: center;}#sk-container-id-1 div.sk-container {/* jupyter's `normalize.less` sets `[hidden] { display: none; }` but bootstrap.min.css set `[hidden] { display: none !important; }` so we also need the `!important` here to be able to override the default hidden behavior on the sphinx rendered scikit-learn.org. See: https://github.com/scikit-learn/scikit-learn/issues/21755 */display: inline-block !important;position: relative;}#sk-container-id-1 div.sk-text-repr-fallback {display: none;}</style><div id=\"sk-container-id-1\" class=\"sk-top-container\"><div class=\"sk-text-repr-fallback\"><pre>RandomForestClassifier(n_estimators=40, random_state=15)</pre><b>In a Jupyter environment, please rerun this cell to show the HTML representation or trust the notebook. <br />On GitHub, the HTML representation is unable to render, please try loading this page with nbviewer.org.</b></div><div class=\"sk-container\" hidden><div class=\"sk-item\"><div class=\"sk-estimator sk-toggleable\"><input class=\"sk-toggleable__control sk-hidden--visually\" id=\"sk-estimator-id-1\" type=\"checkbox\" checked><label for=\"sk-estimator-id-1\" class=\"sk-toggleable__label sk-toggleable__label-arrow\">RandomForestClassifier</label><div class=\"sk-toggleable__content\"><pre>RandomForestClassifier(n_estimators=40, random_state=15)</pre></div></div></div></div></div>"
      ],
      "text/plain": [
       "RandomForestClassifier(n_estimators=40, random_state=15)"
      ]
     },
     "execution_count": 19,
     "metadata": {},
     "output_type": "execute_result"
    }
   ],
   "source": [
    "model_2=RandomForestClassifier(n_estimators=40, random_state=15)\n",
    "model_2.fit(x_train,y_train)"
   ]
  },
  {
   "cell_type": "code",
   "execution_count": 20,
   "id": "8b7edaac",
   "metadata": {},
   "outputs": [
    {
     "name": "stdout",
     "output_type": "stream",
     "text": [
      "0.8832116788321168\n"
     ]
    }
   ],
   "source": [
    "y_pred=model_2.predict(x_test)\n",
    "print(metrics.accuracy_score(y_test,y_pred))"
   ]
  },
  {
   "cell_type": "code",
   "execution_count": 21,
   "id": "c0aa90fc",
   "metadata": {},
   "outputs": [],
   "source": [
    "def pred_2(x):\n",
    "    pred = model_2.predict(cv_2.transform([transfrom_text(x)]))\n",
    "    if pred==1:\n",
    "        return \"Software Engineering\"\n",
    "    elif pred==2:\n",
    "        return \"Sales and Business\"\n",
    "    elif pred==3: \n",
    "        return \"Marketing\"\n",
    "    elif pred==4:\n",
    "        return \"Technical Management\"\n",
    "    elif pred==5:\n",
    "        return \"Specialist\"\n",
    "    elif pred==6:\n",
    "        return \"Operations\"\n",
    "    elif pred==7: \n",
    "        return \"Design and Creative\"\n",
    "    elif pred==8:\n",
    "        return \"Human Resources\"\n",
    "    elif pred==9:\n",
    "        return \"Specialist\"\n",
    "    else:\n",
    "        return \"other\""
   ]
  },
  {
   "cell_type": "code",
   "execution_count": 22,
   "id": "78d47099",
   "metadata": {},
   "outputs": [
    {
     "data": {
      "text/plain": [
       "'Software Engineering'"
      ]
     },
     "execution_count": 22,
     "metadata": {},
     "output_type": "execute_result"
    }
   ],
   "source": [
    "# Example string input\n",
    "inputt=\"Adobe Experience Manager (AEM)\"\n",
    "pred_2(\"Adobe Experience Manager (AEM)\")"
   ]
  },
  {
   "cell_type": "code",
   "execution_count": 23,
   "id": "817e32a1",
   "metadata": {},
   "outputs": [],
   "source": [
    "import pickle"
   ]
  },
  {
   "cell_type": "code",
   "execution_count": 24,
   "id": "113dde35",
   "metadata": {},
   "outputs": [],
   "source": [
    "pickle.dump(model_2,open('model_2.pkl','wb'))\n",
    "pickle.dump(cv_2,open('vectorizer_2.pkl','wb'))"
   ]
  },
  {
   "cell_type": "code",
   "execution_count": 25,
   "id": "c89ffedd",
   "metadata": {},
   "outputs": [],
   "source": [
    "# Print the transformed vector\n",
    "#print(lb.inverse_transform(lg.predict(cv.transform([transfrom_text(inputt)]))))"
   ]
  },
  {
   "cell_type": "code",
   "execution_count": null,
   "id": "72b3f921",
   "metadata": {},
   "outputs": [],
   "source": []
  }
 ],
 "metadata": {
  "kernelspec": {
   "display_name": "Python 3 (ipykernel)",
   "language": "python",
   "name": "python3"
  },
  "language_info": {
   "codemirror_mode": {
    "name": "ipython",
    "version": 3
   },
   "file_extension": ".py",
   "mimetype": "text/x-python",
   "name": "python",
   "nbconvert_exporter": "python",
   "pygments_lexer": "ipython3",
   "version": "3.10.9"
  }
 },
 "nbformat": 4,
 "nbformat_minor": 5
}
